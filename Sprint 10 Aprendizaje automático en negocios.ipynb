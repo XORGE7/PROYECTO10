{
 "cells": [
  {
   "cell_type": "markdown",
   "metadata": {},
   "source": [
    "<div class=\"alert alert-block alert-success\">\n",
    "<b>Comentario de Revisor v4</b> <a class=\"tocSkip\"></a>\n",
    "\n",
    "Buen trabajo Jorge, tu notebook está completo y aprobado.\n",
    "    \n",
    "Saludos!    \n",
    "\n",
    "</div>"
   ]
  },
  {
   "cell_type": "markdown",
   "metadata": {},
   "source": [
    "-----"
   ]
  },
  {
   "cell_type": "markdown",
   "metadata": {},
   "source": [
    "<h1>Tabla de contenidos<span class=\"tocSkip\"></span></h1>\n",
    "<div class=\"toc\"><ul class=\"toc-item\"><li><span><a href=\"#Introducción\" data-toc-modified-id=\"Introducción-1\"><span class=\"toc-item-num\">1&nbsp;&nbsp;</span>Introducción</a></span></li><li><span><a href=\"#Proyecto\" data-toc-modified-id=\"Proyecto-2\"><span class=\"toc-item-num\">2&nbsp;&nbsp;</span>Proyecto</a></span><ul class=\"toc-item\"><li><span><a href=\"#Librerias-utilizadas\" data-toc-modified-id=\"Librerias-utilizadas-2.1\"><span class=\"toc-item-num\">2.1&nbsp;&nbsp;</span>Librerias utilizadas</a></span></li><li><span><a href=\"#Funciones-utilizadas-en-el-proyecto\" data-toc-modified-id=\"Funciones-utilizadas-en-el-proyecto-2.2\"><span class=\"toc-item-num\">2.2&nbsp;&nbsp;</span>Funciones utilizadas en el proyecto</a></span></li><li><span><a href=\"#Preparación-de-los-datos.\" data-toc-modified-id=\"Preparación-de-los-datos.-2.3\"><span class=\"toc-item-num\">2.3&nbsp;&nbsp;</span>Preparación de los datos.</a></span></li><li><span><a href=\"#Entrenamiento-y-pruebas-de-modelos\" data-toc-modified-id=\"Entrenamiento-y-pruebas-de-modelos-2.4\"><span class=\"toc-item-num\">2.4&nbsp;&nbsp;</span>Entrenamiento y pruebas de modelos</a></span></li><li><span><a href=\"#Calculo-y-estadisticas-del-proyecto\" data-toc-modified-id=\"Calculo-y-estadisticas-del-proyecto-2.5\"><span class=\"toc-item-num\">2.5&nbsp;&nbsp;</span>Calculo y estadisticas del proyecto</a></span></li></ul></li><li><span><a href=\"#Conclusión\" data-toc-modified-id=\"Conclusión-3\"><span class=\"toc-item-num\">3&nbsp;&nbsp;</span>Conclusión</a></span></li></ul></div>"
   ]
  },
  {
   "cell_type": "markdown",
   "metadata": {},
   "source": [
    "### Introducción\n",
    "​\n",
    "Trabajamos en la compañía de extracción de petróleo OilyGiant. Tenemos que encontrar los mejores lugares donde abrir 200 pozos nuevos de petróleo. Para completar esta tarea, realizaremos los siguientes pasos:\n",
    "​\n",
    "- Leer los archivos con los parámetros recogidos de pozos petrolíferos en la región seleccionada: calidad de crudo y volumen de reservas.\n",
    "- Crear un modelo para predecir el volumen de reservas en pozos nuevos.\n",
    "- Elegir los pozos petrolíferos que tienen los valores estimados más altos.\n",
    "- Elegir la región con el beneficio total más alto para los pozos petrolíferos seleccionados.\n",
    "​\n",
    "​\n",
    "Tenemos los datos sobre muestras de crudo de tres regiones. Ya se conocen los parámetros de cada pozo petrolero de la región. Crea un modelo que ayude a elegir la región con el mayor margen de beneficio. Analizaremos los beneficios y riesgos potenciales utilizando la técnica bootstrapping.\n",
    "​\n",
    "Condiciones de la empresa:\n",
    "​\n",
    "- Solo se debe usar la regresión lineal para el entrenamiento del modelo.\n",
    "- Al explorar la región, se lleva a cabo un estudio de 500 puntos con la selección de los mejores 200 puntos para el cálculo del beneficio.\n",
    "- El presupuesto para el desarrollo de 200 pozos petroleros es de 100 millones de dólares.\n",
    "- Un barril de materias primas genera 4.5 USD de ingresos. El ingreso de una unidad de producto es de 4500 dólares (el volumen de reservas está expresado en miles de barriles).\n",
    "- Después de la evaluación de riesgo, mantén solo las regiones con riesgo de pérdidas inferior al 2.5%. De las que se ajustan a los criterios, se debe seleccionar la región con el beneficio promedio más alto.\n",
    "Los datos son sintéticos: los detalles del contrato y las características del pozo no se publican."
   ]
  },
  {
   "cell_type": "markdown",
   "metadata": {},
   "source": [
    "### Proyecto"
   ]
  },
  {
   "cell_type": "markdown",
   "metadata": {},
   "source": [
    "#### Librerias ocupadas"
   ]
  },
  {
   "cell_type": "code",
   "execution_count": 38,
   "metadata": {},
   "outputs": [],
   "source": [
    "#Librerias iniciales\n",
    "import pandas\n",
    "import pandas as pd\n",
    "import numpy\n",
    "import numpy as np\n",
    "import matplotlib.pyplot as plt\n",
    "#Librerias de Modelos y entrenamiento\n",
    "from sklearn.preprocessing import StandardScaler\n",
    "from sklearn.model_selection import train_test_split\n",
    "from sklearn.linear_model import LinearRegression\n",
    "#Librerias de metricas\n",
    "from sklearn.metrics import mean_squared_error"
   ]
  },
  {
   "cell_type": "markdown",
   "metadata": {},
   "source": [
    "#### Funciones utilizadas en el proyecto"
   ]
  },
  {
   "cell_type": "markdown",
   "metadata": {},
   "source": [
    "##### Funcion para normalizar datos"
   ]
  },
  {
   "cell_type": "code",
   "execution_count": 39,
   "metadata": {},
   "outputs": [],
   "source": [
    "def normalizeData(data,columnsDrop,target):\n",
    "    # Estandarizamos los datos con el StandardScaler\n",
    "    scaler = StandardScaler()\n",
    "    \n",
    "    # Realizamos el metodo solo en las columnas que queremos, asi que eliminamos el target del DataFrame\n",
    "    data_transformed=data.drop(target, axis=1)\n",
    "    data_transformed=pandas.DataFrame(scaler.fit_transform(data_transformed), columns=data_transformed.columns)\n",
    "    #data_transformed.info()\n",
    "    \n",
    "    # Eliminamos las columnas del DataFrame original para ser remplazadas por los datos estandarrizados.\n",
    "    data = data.drop(columnsDrop, axis=1)\n",
    "    data = pandas.concat([data_transformed,data],axis=1)\n",
    "    #data.info()\n",
    "    \n",
    "    return data"
   ]
  },
  {
   "cell_type": "markdown",
   "metadata": {},
   "source": [
    "<div class=\"alert alert-block alert-success\">\n",
    "<b>Comentario de Revisor</b> <a class=\"tocSkip\"></a>\n",
    "\n",
    "Bien con esta función, pero no es necesario en este notebook.\n",
    "\n",
    "</div>"
   ]
  },
  {
   "cell_type": "markdown",
   "metadata": {},
   "source": [
    "##### Funcion para realizar los conjuntos de entrenamiento y validacion"
   ]
  },
  {
   "cell_type": "code",
   "execution_count": 40,
   "metadata": {},
   "outputs": [],
   "source": [
    "def trainSets(dataFrame,target,testSize,randomState):\n",
    "        \n",
    "    # Obtendemos el conjunto de entrenamiento y validacion.\n",
    "    train,valid=train_test_split(dataFrame,test_size=testSize,random_state=randomState)\n",
    "\n",
    "    #Entrenamiento\n",
    "    features_train=train.drop([target],axis=1)\n",
    "    target_train=train[target]\n",
    "    #Validacion\n",
    "    features_valid=valid.drop([target],axis=1)\n",
    "    target_valid= valid[target]\n",
    "    \n",
    "    return features_train,target_train,features_valid,target_valid"
   ]
  },
  {
   "cell_type": "markdown",
   "metadata": {},
   "source": [
    "<div class=\"alert alert-block alert-success\">\n",
    "<b>Comentario de Revisor</b> <a class=\"tocSkip\"></a>\n",
    "\n",
    "Bien, correcto\n",
    "\n",
    "</div>"
   ]
  },
  {
   "cell_type": "markdown",
   "metadata": {},
   "source": [
    "##### Funcion para entrenar modelos"
   ]
  },
  {
   "cell_type": "code",
   "execution_count": 41,
   "metadata": {},
   "outputs": [],
   "source": [
    "def trainModel(features_train,target_train,features_valid,target_valid,randomState):\n",
    "    # Comenzamos con el modelo\n",
    "    model= LinearRegression()\n",
    "    model.fit(features_train,target_train)\n",
    "    predictions_valid=model.predict(features_valid)# Obtenemos las predicciones del modelo en el conjunto de validación.\n",
    "    rmse=mean_squared_error(target_valid,predictions_valid)**0.5\n",
    "    print('El RMSE del modelo es:',rmse)\n",
    "    print(features_valid)\n",
    "    return model,predictions_valid "
   ]
  },
  {
   "cell_type": "markdown",
   "metadata": {},
   "source": [
    "<div class=\"alert alert-block alert-success\">\n",
    "<b>Comentario de Revisor</b> <a class=\"tocSkip\"></a>\n",
    "\n",
    "Bien, correcto\n",
    "\n",
    "</div>"
   ]
  },
  {
   "cell_type": "markdown",
   "metadata": {},
   "source": [
    "Función para el Bootstrapping para el intervalo de confianza"
   ]
  },
  {
   "cell_type": "markdown",
   "metadata": {},
   "source": [
    "##### Función para el Bootstrapping para el análisis de pruebas A/B"
   ]
  },
  {
   "cell_type": "code",
   "execution_count": 60,
   "metadata": {},
   "outputs": [],
   "source": [
    "def test_analysis(data_a,data_b,randomState):\n",
    "    # diferencia real entre las medias de los grupos\n",
    "    AB_difference = data_b.mean() - data_a.mean()\n",
    "    print(\"Diferencia entre los importes promedios de compra:\", AB_difference)\n",
    "\n",
    "    alpha = 0.05\n",
    "    state = np.random.RandomState(randomState)\n",
    "    bootstrap_samples = 1000\n",
    "    count = 0\n",
    "    for i in range(bootstrap_samples):\n",
    "        # concatena las muestras\n",
    "        united_samples =  pd.concat([data_a, data_b])\n",
    "        # crea una submuestra\n",
    "        subsample = united_samples.sample(n=500, replace=True, random_state=state)\n",
    "        # divide la submuestra por la mitad\n",
    "        subsample_A = subsample[:len(data_a)]\n",
    "        subsample_B = subsample[len(data_a):]\n",
    "        # encuentra la diferencia entre las medias\n",
    "        bootstrap_difference = subsample_B.mean()-subsample_A.mean()\n",
    "        # si la diferencia no es menor que la diferencia real, añade \"1\" al contador\n",
    "        if bootstrap_difference >= AB_difference:\n",
    "            count += 1\n",
    "    # el valor p es igual al porcentaje de valores excedentes\n",
    "    pvalue = 1. * count / bootstrap_samples\n",
    "    print('p-value =', pvalue)\n",
    "\n",
    "    if pvalue < alpha:\n",
    "        print(\"La hipótesis nula se rechaza, a saber, es probable que el importe promedio de las compras aumente\")\n",
    "    else:\n",
    "        print(\"La hipótesis nula no se rechaza, a saber, es poco probable que el importe medio de las compras aumente\")"
   ]
  },
  {
   "cell_type": "markdown",
   "metadata": {},
   "source": [
    "<div class=\"alert alert-block alert-success\">\n",
    "<b>Comentario de Revisor</b> <a class=\"tocSkip\"></a>\n",
    "\n",
    "Ok, pero no es necesario hacer análisis AB en este proyecto\n",
    "</div>"
   ]
  },
  {
   "cell_type": "markdown",
   "metadata": {},
   "source": [
    "##### Función para el calcular ganancias."
   ]
  },
  {
   "cell_type": "code",
   "execution_count": 61,
   "metadata": {},
   "outputs": [],
   "source": [
    "# Definición de la función revenue\n",
    "def revenue(df, income, presupuesto):\n",
    "    top_200_pozos = df.sort_values(by=\"predicted_value\", ascending=False)['product'].head(200)\n",
    "    volumen_total = top_200_pozos.sum()\n",
    "    benefits = ((volumen_total * income) - presupuesto)\n",
    "    return benefits"
   ]
  },
  {
   "cell_type": "markdown",
   "metadata": {},
   "source": [
    "<div class=\"alert alert-block alert-success\">\n",
    "<b>Comentario de Revisor</b> <a class=\"tocSkip\"></a>\n",
    "\n",
    "Muy bien con la función del revenue.\n",
    "</div>"
   ]
  },
  {
   "cell_type": "markdown",
   "metadata": {},
   "source": [
    "##### Función para el Bootstrapping para modelos y cálculo del riesgo."
   ]
  },
  {
   "cell_type": "code",
   "execution_count": 78,
   "metadata": {
    "scrolled": true
   },
   "outputs": [
    {
     "name": "stdout",
     "output_type": "stream",
     "text": [
      "Ingresos promedio: 493393500.0\n",
      "Cuantil del 2.5 %: 452983750.0\n",
      "Cuantil del 97.5%: 536658750.0\n",
      "Riesgo calculado (porcentaje de beneficios negativos): 0.00%\n"
     ]
    }
   ],
   "source": [
    "def bootstrapping_for_model(df, n_muestras, income, presupuesto, randomState):\n",
    "    state = np.random.RandomState(randomState)\n",
    "\n",
    "    benefit_muestra = []\n",
    "    for i in range(n_muestras):\n",
    "        pozos = df.sample(n=500, replace=True, random_state=state)\n",
    "        benefit_muestra.append(revenue(pozos, income, presupuesto))\n",
    "    \n",
    "    benefit_muestra = pd.Series(benefit_muestra)\n",
    "\n",
    "    lower = benefit_muestra.quantile(0.025)\n",
    "    upper = benefit_muestra.quantile(0.975)\n",
    "    mean = benefit_muestra.mean()\n",
    "    \n",
    "    riesgo = (benefit_muestra < 0).mean() * 100\n",
    "    \n",
    "    print(\"Ingresos promedio:\", mean)\n",
    "    print(\"Cuantil del 2.5 %:\", lower)\n",
    "    print(\"Cuantil del 97.5%:\", upper)\n",
    "    print(f\"Riesgo calculado (porcentaje de beneficios negativos): {riesgo:.2f}%\")\n",
    "    \n",
    "    return benefit_muestra\n",
    "\n",
    "# Ejemplo de uso\n",
    "df = pd.DataFrame({\n",
    "    'predicted_value': np.random.rand(1000),  # Valores predichos aleatorios\n",
    "    'product': np.random.randint(1, 100, 1000)  # Productos aleatorios entre 1 y 100\n",
    "})\n",
    "n_muestras = 1000\n",
    "income = 50000  # Ejemplo de ingreso por pozo\n",
    "presupuesto = 10000  # Ejemplo de presupuesto\n",
    "randomState = 42\n",
    "\n",
    "benefit_muestra = bootstrapping_for_model(df, n_muestras, income, presupuesto, randomState)"
   ]
  },
  {
   "cell_type": "markdown",
   "metadata": {},
   "source": [
    "<div class=\"alert alert-block alert-success\">\n",
    "<b>Comentario de Revisor</b> <a class=\"tocSkip\"></a>\n",
    "\n",
    "Bien, corregido\n",
    "\n",
    "</div>"
   ]
  },
  {
   "cell_type": "markdown",
   "metadata": {},
   "source": [
    "#### Preparación de los datos.\n",
    "\n",
    "##### Leemos los datasets."
   ]
  },
  {
   "cell_type": "code",
   "execution_count": 79,
   "metadata": {},
   "outputs": [],
   "source": [
    "df_geo_0=pandas.read_csv('/datasets/geo_data_0.csv')\n",
    "df_geo_1=pandas.read_csv('/datasets/geo_data_1.csv')\n",
    "df_geo_2=pandas.read_csv('/datasets/geo_data_2.csv')"
   ]
  },
  {
   "cell_type": "markdown",
   "metadata": {},
   "source": [
    "##### Revisamos los datos de cada Datasets, como tambien si es que hay filas duplicadas o datos ausentes."
   ]
  },
  {
   "cell_type": "markdown",
   "metadata": {},
   "source": [
    "- Revisemos el dataset geo_data_0.csv"
   ]
  },
  {
   "cell_type": "code",
   "execution_count": 64,
   "metadata": {},
   "outputs": [
    {
     "name": "stdout",
     "output_type": "stream",
     "text": [
      "Revisemos el dataset geo_data_0.csv\n",
      "\n",
      "<class 'pandas.core.frame.DataFrame'>\n",
      "RangeIndex: 100000 entries, 0 to 99999\n",
      "Data columns (total 5 columns):\n",
      " #   Column   Non-Null Count   Dtype  \n",
      "---  ------   --------------   -----  \n",
      " 0   id       100000 non-null  object \n",
      " 1   f0       100000 non-null  float64\n",
      " 2   f1       100000 non-null  float64\n",
      " 3   f2       100000 non-null  float64\n",
      " 4   product  100000 non-null  float64\n",
      "dtypes: float64(4), object(1)\n",
      "memory usage: 3.8+ MB\n",
      "\n",
      "                  f0             f1             f2        product\n",
      "count  100000.000000  100000.000000  100000.000000  100000.000000\n",
      "mean        0.500419       0.250143       2.502647      92.500000\n",
      "std         0.871832       0.504433       3.248248      44.288691\n",
      "min        -1.408605      -0.848218     -12.088328       0.000000\n",
      "25%        -0.072580      -0.200881       0.287748      56.497507\n",
      "50%         0.502360       0.250252       2.515969      91.849972\n",
      "75%         1.073581       0.700646       4.715088     128.564089\n",
      "max         2.362331       1.343769      16.003790     185.364347\n",
      "\n",
      "Comprobamos los datos duplicados en el dataset.\n",
      "El dataset tiene 0 duplicados.\n",
      "\n",
      "Comprobamos si hay datos nulos.\n",
      "id         0\n",
      "f0         0\n",
      "f1         0\n",
      "f2         0\n",
      "product    0\n",
      "dtype: int64\n",
      "\n"
     ]
    },
    {
     "data": {
      "text/html": [
       "<div>\n",
       "<style scoped>\n",
       "    .dataframe tbody tr th:only-of-type {\n",
       "        vertical-align: middle;\n",
       "    }\n",
       "\n",
       "    .dataframe tbody tr th {\n",
       "        vertical-align: top;\n",
       "    }\n",
       "\n",
       "    .dataframe thead th {\n",
       "        text-align: right;\n",
       "    }\n",
       "</style>\n",
       "<table border=\"1\" class=\"dataframe\">\n",
       "  <thead>\n",
       "    <tr style=\"text-align: right;\">\n",
       "      <th></th>\n",
       "      <th>id</th>\n",
       "      <th>f0</th>\n",
       "      <th>f1</th>\n",
       "      <th>f2</th>\n",
       "      <th>product</th>\n",
       "    </tr>\n",
       "  </thead>\n",
       "  <tbody>\n",
       "    <tr>\n",
       "      <th>0</th>\n",
       "      <td>txEyH</td>\n",
       "      <td>0.705745</td>\n",
       "      <td>-0.497823</td>\n",
       "      <td>1.221170</td>\n",
       "      <td>105.280062</td>\n",
       "    </tr>\n",
       "    <tr>\n",
       "      <th>1</th>\n",
       "      <td>2acmU</td>\n",
       "      <td>1.334711</td>\n",
       "      <td>-0.340164</td>\n",
       "      <td>4.365080</td>\n",
       "      <td>73.037750</td>\n",
       "    </tr>\n",
       "    <tr>\n",
       "      <th>2</th>\n",
       "      <td>409Wp</td>\n",
       "      <td>1.022732</td>\n",
       "      <td>0.151990</td>\n",
       "      <td>1.419926</td>\n",
       "      <td>85.265647</td>\n",
       "    </tr>\n",
       "    <tr>\n",
       "      <th>3</th>\n",
       "      <td>iJLyR</td>\n",
       "      <td>-0.032172</td>\n",
       "      <td>0.139033</td>\n",
       "      <td>2.978566</td>\n",
       "      <td>168.620776</td>\n",
       "    </tr>\n",
       "    <tr>\n",
       "      <th>4</th>\n",
       "      <td>Xdl7t</td>\n",
       "      <td>1.988431</td>\n",
       "      <td>0.155413</td>\n",
       "      <td>4.751769</td>\n",
       "      <td>154.036647</td>\n",
       "    </tr>\n",
       "    <tr>\n",
       "      <th>5</th>\n",
       "      <td>wX4Hy</td>\n",
       "      <td>0.969570</td>\n",
       "      <td>0.489775</td>\n",
       "      <td>-0.735383</td>\n",
       "      <td>64.741541</td>\n",
       "    </tr>\n",
       "    <tr>\n",
       "      <th>6</th>\n",
       "      <td>tL6pL</td>\n",
       "      <td>0.645075</td>\n",
       "      <td>0.530656</td>\n",
       "      <td>1.780266</td>\n",
       "      <td>49.055285</td>\n",
       "    </tr>\n",
       "    <tr>\n",
       "      <th>7</th>\n",
       "      <td>BYPU6</td>\n",
       "      <td>-0.400648</td>\n",
       "      <td>0.808337</td>\n",
       "      <td>-5.624670</td>\n",
       "      <td>72.943292</td>\n",
       "    </tr>\n",
       "    <tr>\n",
       "      <th>8</th>\n",
       "      <td>j9Oui</td>\n",
       "      <td>0.643105</td>\n",
       "      <td>-0.551583</td>\n",
       "      <td>2.372141</td>\n",
       "      <td>113.356160</td>\n",
       "    </tr>\n",
       "    <tr>\n",
       "      <th>9</th>\n",
       "      <td>OLuZU</td>\n",
       "      <td>2.173381</td>\n",
       "      <td>0.563698</td>\n",
       "      <td>9.441852</td>\n",
       "      <td>127.910945</td>\n",
       "    </tr>\n",
       "  </tbody>\n",
       "</table>\n",
       "</div>"
      ],
      "text/plain": [
       "      id        f0        f1        f2     product\n",
       "0  txEyH  0.705745 -0.497823  1.221170  105.280062\n",
       "1  2acmU  1.334711 -0.340164  4.365080   73.037750\n",
       "2  409Wp  1.022732  0.151990  1.419926   85.265647\n",
       "3  iJLyR -0.032172  0.139033  2.978566  168.620776\n",
       "4  Xdl7t  1.988431  0.155413  4.751769  154.036647\n",
       "5  wX4Hy  0.969570  0.489775 -0.735383   64.741541\n",
       "6  tL6pL  0.645075  0.530656  1.780266   49.055285\n",
       "7  BYPU6 -0.400648  0.808337 -5.624670   72.943292\n",
       "8  j9Oui  0.643105 -0.551583  2.372141  113.356160\n",
       "9  OLuZU  2.173381  0.563698  9.441852  127.910945"
      ]
     },
     "execution_count": 64,
     "metadata": {},
     "output_type": "execute_result"
    }
   ],
   "source": [
    "print('Revisemos el dataset geo_data_0.csv')\n",
    "print()\n",
    "# Información del dataset.\n",
    "df_geo_0.info()\n",
    "print()\n",
    "# Descripcion del dataset.\n",
    "print(df_geo_0.describe())\n",
    "print()\n",
    "# Revisamos los datos duplicados\n",
    "print('Comprobamos los datos duplicados en el dataset.')\n",
    "print('El dataset tiene',df_geo_0.duplicated().sum(),'duplicados.')\n",
    "print()\n",
    "# Revisamos los datos eliminados\n",
    "print('Comprobamos si hay datos nulos.')\n",
    "print(df_geo_0.isnull().sum())\n",
    "# Revisamos las 10 primeras filas del DataFrame\n",
    "print()\n",
    "df_geo_0.head(10)"
   ]
  },
  {
   "cell_type": "markdown",
   "metadata": {},
   "source": [
    "- Revisemos el dataset geo_data_1.csv"
   ]
  },
  {
   "cell_type": "code",
   "execution_count": 65,
   "metadata": {},
   "outputs": [
    {
     "name": "stdout",
     "output_type": "stream",
     "text": [
      "Revisemos el dataset geo_data_1.csv\n",
      "\n",
      "<class 'pandas.core.frame.DataFrame'>\n",
      "RangeIndex: 100000 entries, 0 to 99999\n",
      "Data columns (total 5 columns):\n",
      " #   Column   Non-Null Count   Dtype  \n",
      "---  ------   --------------   -----  \n",
      " 0   id       100000 non-null  object \n",
      " 1   f0       100000 non-null  float64\n",
      " 2   f1       100000 non-null  float64\n",
      " 3   f2       100000 non-null  float64\n",
      " 4   product  100000 non-null  float64\n",
      "dtypes: float64(4), object(1)\n",
      "memory usage: 3.8+ MB\n",
      "\n",
      "                  f0             f1             f2        product\n",
      "count  100000.000000  100000.000000  100000.000000  100000.000000\n",
      "mean        1.141296      -4.796579       2.494541      68.825000\n",
      "std         8.965932       5.119872       1.703572      45.944423\n",
      "min       -31.609576     -26.358598      -0.018144       0.000000\n",
      "25%        -6.298551      -8.267985       1.000021      26.953261\n",
      "50%         1.153055      -4.813172       2.011479      57.085625\n",
      "75%         8.621015      -1.332816       3.999904     107.813044\n",
      "max        29.421755      18.734063       5.019721     137.945408\n",
      "\n",
      "Comprobamos los datos duplicados en el dataset.\n",
      "El dataset tiene 0 duplicados.\n",
      "\n",
      "Comprobamos si hay datos nulos.\n",
      "id         0\n",
      "f0         0\n",
      "f1         0\n",
      "f2         0\n",
      "product    0\n",
      "dtype: int64\n",
      "\n"
     ]
    },
    {
     "data": {
      "text/html": [
       "<div>\n",
       "<style scoped>\n",
       "    .dataframe tbody tr th:only-of-type {\n",
       "        vertical-align: middle;\n",
       "    }\n",
       "\n",
       "    .dataframe tbody tr th {\n",
       "        vertical-align: top;\n",
       "    }\n",
       "\n",
       "    .dataframe thead th {\n",
       "        text-align: right;\n",
       "    }\n",
       "</style>\n",
       "<table border=\"1\" class=\"dataframe\">\n",
       "  <thead>\n",
       "    <tr style=\"text-align: right;\">\n",
       "      <th></th>\n",
       "      <th>id</th>\n",
       "      <th>f0</th>\n",
       "      <th>f1</th>\n",
       "      <th>f2</th>\n",
       "      <th>product</th>\n",
       "    </tr>\n",
       "  </thead>\n",
       "  <tbody>\n",
       "    <tr>\n",
       "      <th>0</th>\n",
       "      <td>kBEdx</td>\n",
       "      <td>-15.001348</td>\n",
       "      <td>-8.276000</td>\n",
       "      <td>-0.005876</td>\n",
       "      <td>3.179103</td>\n",
       "    </tr>\n",
       "    <tr>\n",
       "      <th>1</th>\n",
       "      <td>62mP7</td>\n",
       "      <td>14.272088</td>\n",
       "      <td>-3.475083</td>\n",
       "      <td>0.999183</td>\n",
       "      <td>26.953261</td>\n",
       "    </tr>\n",
       "    <tr>\n",
       "      <th>2</th>\n",
       "      <td>vyE1P</td>\n",
       "      <td>6.263187</td>\n",
       "      <td>-5.948386</td>\n",
       "      <td>5.001160</td>\n",
       "      <td>134.766305</td>\n",
       "    </tr>\n",
       "    <tr>\n",
       "      <th>3</th>\n",
       "      <td>KcrkZ</td>\n",
       "      <td>-13.081196</td>\n",
       "      <td>-11.506057</td>\n",
       "      <td>4.999415</td>\n",
       "      <td>137.945408</td>\n",
       "    </tr>\n",
       "    <tr>\n",
       "      <th>4</th>\n",
       "      <td>AHL4O</td>\n",
       "      <td>12.702195</td>\n",
       "      <td>-8.147433</td>\n",
       "      <td>5.004363</td>\n",
       "      <td>134.766305</td>\n",
       "    </tr>\n",
       "    <tr>\n",
       "      <th>5</th>\n",
       "      <td>HHckp</td>\n",
       "      <td>-3.327590</td>\n",
       "      <td>-2.205276</td>\n",
       "      <td>3.003647</td>\n",
       "      <td>84.038886</td>\n",
       "    </tr>\n",
       "    <tr>\n",
       "      <th>6</th>\n",
       "      <td>h5Ujo</td>\n",
       "      <td>-11.142655</td>\n",
       "      <td>-10.133399</td>\n",
       "      <td>4.002382</td>\n",
       "      <td>110.992147</td>\n",
       "    </tr>\n",
       "    <tr>\n",
       "      <th>7</th>\n",
       "      <td>muH9x</td>\n",
       "      <td>4.234715</td>\n",
       "      <td>-0.001354</td>\n",
       "      <td>2.004588</td>\n",
       "      <td>53.906522</td>\n",
       "    </tr>\n",
       "    <tr>\n",
       "      <th>8</th>\n",
       "      <td>YiRkx</td>\n",
       "      <td>13.355129</td>\n",
       "      <td>-0.332068</td>\n",
       "      <td>4.998647</td>\n",
       "      <td>134.766305</td>\n",
       "    </tr>\n",
       "    <tr>\n",
       "      <th>9</th>\n",
       "      <td>jG6Gi</td>\n",
       "      <td>1.069227</td>\n",
       "      <td>-11.025667</td>\n",
       "      <td>4.997844</td>\n",
       "      <td>137.945408</td>\n",
       "    </tr>\n",
       "  </tbody>\n",
       "</table>\n",
       "</div>"
      ],
      "text/plain": [
       "      id         f0         f1        f2     product\n",
       "0  kBEdx -15.001348  -8.276000 -0.005876    3.179103\n",
       "1  62mP7  14.272088  -3.475083  0.999183   26.953261\n",
       "2  vyE1P   6.263187  -5.948386  5.001160  134.766305\n",
       "3  KcrkZ -13.081196 -11.506057  4.999415  137.945408\n",
       "4  AHL4O  12.702195  -8.147433  5.004363  134.766305\n",
       "5  HHckp  -3.327590  -2.205276  3.003647   84.038886\n",
       "6  h5Ujo -11.142655 -10.133399  4.002382  110.992147\n",
       "7  muH9x   4.234715  -0.001354  2.004588   53.906522\n",
       "8  YiRkx  13.355129  -0.332068  4.998647  134.766305\n",
       "9  jG6Gi   1.069227 -11.025667  4.997844  137.945408"
      ]
     },
     "execution_count": 65,
     "metadata": {},
     "output_type": "execute_result"
    }
   ],
   "source": [
    "print('Revisemos el dataset geo_data_1.csv')\n",
    "print()\n",
    "# Información del dataset.\n",
    "df_geo_1.info()\n",
    "print()\n",
    "# Descripcion del dataset.\n",
    "print(df_geo_1.describe())\n",
    "print()\n",
    "# Revisamos los datos duplicados\n",
    "print('Comprobamos los datos duplicados en el dataset.')\n",
    "print('El dataset tiene',df_geo_1.duplicated().sum(),'duplicados.')\n",
    "print()\n",
    "# Revisamos los datos eliminados\n",
    "print('Comprobamos si hay datos nulos.')\n",
    "print(df_geo_1.isnull().sum())\n",
    "# Revisamos las 10 primeras filas del DataFrame\n",
    "print()\n",
    "df_geo_1.head(10)"
   ]
  },
  {
   "cell_type": "markdown",
   "metadata": {},
   "source": [
    "- Revisemos el dataset geo_data_2.csv"
   ]
  },
  {
   "cell_type": "code",
   "execution_count": 66,
   "metadata": {},
   "outputs": [
    {
     "name": "stdout",
     "output_type": "stream",
     "text": [
      "Revisemos el dataset geo_data_2.csv\n",
      "\n",
      "<class 'pandas.core.frame.DataFrame'>\n",
      "RangeIndex: 100000 entries, 0 to 99999\n",
      "Data columns (total 5 columns):\n",
      " #   Column   Non-Null Count   Dtype  \n",
      "---  ------   --------------   -----  \n",
      " 0   id       100000 non-null  object \n",
      " 1   f0       100000 non-null  float64\n",
      " 2   f1       100000 non-null  float64\n",
      " 3   f2       100000 non-null  float64\n",
      " 4   product  100000 non-null  float64\n",
      "dtypes: float64(4), object(1)\n",
      "memory usage: 3.8+ MB\n",
      "\n",
      "                  f0             f1             f2        product\n",
      "count  100000.000000  100000.000000  100000.000000  100000.000000\n",
      "mean        0.002023      -0.002081       2.495128      95.000000\n",
      "std         1.732045       1.730417       3.473445      44.749921\n",
      "min        -8.760004      -7.084020     -11.970335       0.000000\n",
      "25%        -1.162288      -1.174820       0.130359      59.450441\n",
      "50%         0.009424      -0.009482       2.484236      94.925613\n",
      "75%         1.158535       1.163678       4.858794     130.595027\n",
      "max         7.238262       7.844801      16.739402     190.029838\n",
      "\n",
      "Comprobamos los datos duplicados en el dataset.\n",
      "El dataset tiene 0 duplicados.\n",
      "\n",
      "Comprobamos si hay datos nulos.\n",
      "id         0\n",
      "f0         0\n",
      "f1         0\n",
      "f2         0\n",
      "product    0\n",
      "dtype: int64\n",
      "\n"
     ]
    },
    {
     "data": {
      "text/html": [
       "<div>\n",
       "<style scoped>\n",
       "    .dataframe tbody tr th:only-of-type {\n",
       "        vertical-align: middle;\n",
       "    }\n",
       "\n",
       "    .dataframe tbody tr th {\n",
       "        vertical-align: top;\n",
       "    }\n",
       "\n",
       "    .dataframe thead th {\n",
       "        text-align: right;\n",
       "    }\n",
       "</style>\n",
       "<table border=\"1\" class=\"dataframe\">\n",
       "  <thead>\n",
       "    <tr style=\"text-align: right;\">\n",
       "      <th></th>\n",
       "      <th>id</th>\n",
       "      <th>f0</th>\n",
       "      <th>f1</th>\n",
       "      <th>f2</th>\n",
       "      <th>product</th>\n",
       "    </tr>\n",
       "  </thead>\n",
       "  <tbody>\n",
       "    <tr>\n",
       "      <th>0</th>\n",
       "      <td>fwXo0</td>\n",
       "      <td>-1.146987</td>\n",
       "      <td>0.963328</td>\n",
       "      <td>-0.828965</td>\n",
       "      <td>27.758673</td>\n",
       "    </tr>\n",
       "    <tr>\n",
       "      <th>1</th>\n",
       "      <td>WJtFt</td>\n",
       "      <td>0.262778</td>\n",
       "      <td>0.269839</td>\n",
       "      <td>-2.530187</td>\n",
       "      <td>56.069697</td>\n",
       "    </tr>\n",
       "    <tr>\n",
       "      <th>2</th>\n",
       "      <td>ovLUW</td>\n",
       "      <td>0.194587</td>\n",
       "      <td>0.289035</td>\n",
       "      <td>-5.586433</td>\n",
       "      <td>62.871910</td>\n",
       "    </tr>\n",
       "    <tr>\n",
       "      <th>3</th>\n",
       "      <td>q6cA6</td>\n",
       "      <td>2.236060</td>\n",
       "      <td>-0.553760</td>\n",
       "      <td>0.930038</td>\n",
       "      <td>114.572842</td>\n",
       "    </tr>\n",
       "    <tr>\n",
       "      <th>4</th>\n",
       "      <td>WPMUX</td>\n",
       "      <td>-0.515993</td>\n",
       "      <td>1.716266</td>\n",
       "      <td>5.899011</td>\n",
       "      <td>149.600746</td>\n",
       "    </tr>\n",
       "    <tr>\n",
       "      <th>5</th>\n",
       "      <td>LzZXx</td>\n",
       "      <td>-0.758092</td>\n",
       "      <td>0.710691</td>\n",
       "      <td>2.585887</td>\n",
       "      <td>90.222465</td>\n",
       "    </tr>\n",
       "    <tr>\n",
       "      <th>6</th>\n",
       "      <td>WBHRv</td>\n",
       "      <td>-0.574891</td>\n",
       "      <td>0.317727</td>\n",
       "      <td>1.773745</td>\n",
       "      <td>45.641478</td>\n",
       "    </tr>\n",
       "    <tr>\n",
       "      <th>7</th>\n",
       "      <td>XO8fn</td>\n",
       "      <td>-1.906649</td>\n",
       "      <td>-2.458350</td>\n",
       "      <td>-0.177097</td>\n",
       "      <td>72.480640</td>\n",
       "    </tr>\n",
       "    <tr>\n",
       "      <th>8</th>\n",
       "      <td>ybmQ5</td>\n",
       "      <td>1.776292</td>\n",
       "      <td>-0.279356</td>\n",
       "      <td>3.004156</td>\n",
       "      <td>106.616832</td>\n",
       "    </tr>\n",
       "    <tr>\n",
       "      <th>9</th>\n",
       "      <td>OilcN</td>\n",
       "      <td>-1.214452</td>\n",
       "      <td>-0.439314</td>\n",
       "      <td>5.922514</td>\n",
       "      <td>52.954532</td>\n",
       "    </tr>\n",
       "  </tbody>\n",
       "</table>\n",
       "</div>"
      ],
      "text/plain": [
       "      id        f0        f1        f2     product\n",
       "0  fwXo0 -1.146987  0.963328 -0.828965   27.758673\n",
       "1  WJtFt  0.262778  0.269839 -2.530187   56.069697\n",
       "2  ovLUW  0.194587  0.289035 -5.586433   62.871910\n",
       "3  q6cA6  2.236060 -0.553760  0.930038  114.572842\n",
       "4  WPMUX -0.515993  1.716266  5.899011  149.600746\n",
       "5  LzZXx -0.758092  0.710691  2.585887   90.222465\n",
       "6  WBHRv -0.574891  0.317727  1.773745   45.641478\n",
       "7  XO8fn -1.906649 -2.458350 -0.177097   72.480640\n",
       "8  ybmQ5  1.776292 -0.279356  3.004156  106.616832\n",
       "9  OilcN -1.214452 -0.439314  5.922514   52.954532"
      ]
     },
     "execution_count": 66,
     "metadata": {},
     "output_type": "execute_result"
    }
   ],
   "source": [
    "print('Revisemos el dataset geo_data_2.csv')\n",
    "print()\n",
    "# Información del dataset.\n",
    "df_geo_2.info()\n",
    "print()\n",
    "# Descripcion del dataset.\n",
    "print(df_geo_2.describe())\n",
    "print()\n",
    "# Revisamos los datos duplicados\n",
    "print('Comprobamos los datos duplicados en el dataset.')\n",
    "print('El dataset tiene',df_geo_2.duplicated().sum(),'duplicados.')\n",
    "print()\n",
    "# Revisamos los datos eliminados\n",
    "print('Comprobamos si hay datos nulos.')\n",
    "print(df_geo_2.isnull().sum())\n",
    "# Revisamos las 10 primeras filas del DataFrame\n",
    "print()\n",
    "df_geo_2.head(10)"
   ]
  },
  {
   "cell_type": "markdown",
   "metadata": {},
   "source": [
    "<div class=\"alert alert-block alert-success\">\n",
    "<b>Comentario de Revisor</b> <a class=\"tocSkip\"></a>\n",
    "\n",
    "Correcto, muy bien con esta revisión inicial\n",
    "</div>"
   ]
  },
  {
   "cell_type": "markdown",
   "metadata": {},
   "source": [
    "##### Eliminamos lo que No aporta nada.\n",
    "- Observamos que la columna 'id' en los DatasFrame son 'String' y que no aportan nada para el entrenamiento de nuestro modelo por lo que no vale la pena realizarle un proceso de encode, por lo que la vamos a borrar."
   ]
  },
  {
   "cell_type": "code",
   "execution_count": 67,
   "metadata": {
    "scrolled": false
   },
   "outputs": [
    {
     "name": "stdout",
     "output_type": "stream",
     "text": [
      "<class 'pandas.core.frame.DataFrame'>\n",
      "RangeIndex: 100000 entries, 0 to 99999\n",
      "Data columns (total 4 columns):\n",
      " #   Column   Non-Null Count   Dtype  \n",
      "---  ------   --------------   -----  \n",
      " 0   f0       100000 non-null  float64\n",
      " 1   f1       100000 non-null  float64\n",
      " 2   f2       100000 non-null  float64\n",
      " 3   product  100000 non-null  float64\n",
      "dtypes: float64(4)\n",
      "memory usage: 3.1 MB\n",
      "<class 'pandas.core.frame.DataFrame'>\n",
      "RangeIndex: 100000 entries, 0 to 99999\n",
      "Data columns (total 4 columns):\n",
      " #   Column   Non-Null Count   Dtype  \n",
      "---  ------   --------------   -----  \n",
      " 0   f0       100000 non-null  float64\n",
      " 1   f1       100000 non-null  float64\n",
      " 2   f2       100000 non-null  float64\n",
      " 3   product  100000 non-null  float64\n",
      "dtypes: float64(4)\n",
      "memory usage: 3.1 MB\n",
      "<class 'pandas.core.frame.DataFrame'>\n",
      "RangeIndex: 100000 entries, 0 to 99999\n",
      "Data columns (total 4 columns):\n",
      " #   Column   Non-Null Count   Dtype  \n",
      "---  ------   --------------   -----  \n",
      " 0   f0       100000 non-null  float64\n",
      " 1   f1       100000 non-null  float64\n",
      " 2   f2       100000 non-null  float64\n",
      " 3   product  100000 non-null  float64\n",
      "dtypes: float64(4)\n",
      "memory usage: 3.1 MB\n"
     ]
    }
   ],
   "source": [
    "df_geo_0= df_geo_0.drop('id',axis=1)\n",
    "df_geo_1= df_geo_1.drop('id',axis=1)\n",
    "df_geo_2= df_geo_2.drop('id',axis=1)\n",
    "\n",
    "# Revisamos que efectivamente se hayan borrado las columnas.\n",
    "df_geo_0.info()\n",
    "df_geo_1.info()\n",
    "df_geo_2.info()"
   ]
  },
  {
   "cell_type": "markdown",
   "metadata": {},
   "source": [
    "<div class=\"alert alert-block alert-success\">\n",
    "<b>Comentario de Revisor</b> <a class=\"tocSkip\"></a>\n",
    "\n",
    "Ok, bien al eliminar las variables no informativas.\n",
    "</div>"
   ]
  },
  {
   "cell_type": "markdown",
   "metadata": {},
   "source": [
    "##### Asegúrate de que df_geo_0, df_geo_1 y df_geo_2 sean DataFrames ya definidos"
   ]
  },
  {
   "cell_type": "code",
   "execution_count": 68,
   "metadata": {
    "scrolled": false
   },
   "outputs": [
    {
     "data": {
      "image/png": "[encoded data removed]",
      "text/plain": [
       "<Figure size 1500x500 with 3 Axes>"
      ]
     },
     "metadata": {},
     "output_type": "display_data"
    },
    {
     "data": {
      "image/png": "[encoded data removed]",
      "text/plain": [
       "<Figure size 1500x500 with 3 Axes>"
      ]
     },
     "metadata": {},
     "output_type": "display_data"
    },
    {
     "data": {
      "image/png": "[encoded data removed]",
      "text/plain": [
       "<Figure size 1500x500 with 3 Axes>"
      ]
     },
     "metadata": {},
     "output_type": "display_data"
    }
   ],
   "source": [
    "# Número de columnas a iterar\n",
    "num_columns = 3\n",
    "\n",
    "for i in range(num_columns):\n",
    "    # Crear una figura con subplots\n",
    "    fig, axes = plt.subplots(1, 3, figsize=(15, 5))\n",
    "    \n",
    "    # Histogramas para df_geo_0\n",
    "    axes[0].hist(df_geo_0.iloc[:, i], bins=30, alpha=0.7, color='blue')\n",
    "    axes[0].set_title(f'Geo Data 0 - Columna f{i}')\n",
    "    axes[0].set_xlabel('Valores')\n",
    "    axes[0].set_ylabel('Frecuencia')\n",
    "    \n",
    "    # Histogramas para df_geo_1\n",
    "    axes[1].hist(df_geo_1.iloc[:, i], bins=30, alpha=0.7, color='green')\n",
    "    axes[1].set_title(f'Geo Data 1 - Columna f{i}')\n",
    "    axes[1].set_xlabel('Valores')\n",
    "    axes[1].set_ylabel('Frecuencia')\n",
    "    \n",
    "    # Histogramas para df_geo_2\n",
    "    axes[2].hist(df_geo_2.iloc[:, i], bins=30, alpha=0.7, color='red')\n",
    "    axes[2].set_title(f'Geo Data 2 - Columna f{i}')\n",
    "    axes[2].set_xlabel('Valores')\n",
    "    axes[2].set_ylabel('Frecuencia')\n",
    "    \n",
    "    # Ajustar el layout para evitar solapamiento\n",
    "    plt.tight_layout()\n",
    "    plt.show()"
   ]
  },
  {
   "cell_type": "markdown",
   "metadata": {},
   "source": [
    "<div class=\"alert alert-block alert-success\">\n",
    "<b>Comentario de Revisor</b> <a class=\"tocSkip\"></a>\n",
    "\n",
    "Bien con esta exploración de los datos\n",
    "</div>"
   ]
  },
  {
   "cell_type": "markdown",
   "metadata": {},
   "source": [
    "#### Normalizamos nuestros Data Frame"
   ]
  },
  {
   "cell_type": "code",
   "execution_count": 69,
   "metadata": {},
   "outputs": [],
   "source": [
    "df_geo_0=normalizeData(df_geo_0,['f0','f1','f2'],'product')\n",
    "df_geo_1=normalizeData(df_geo_1,['f0','f1','f2'],'product')\n",
    "df_geo_2=normalizeData(df_geo_2,['f0','f1','f2'],'product')"
   ]
  },
  {
   "cell_type": "markdown",
   "metadata": {},
   "source": [
    "<div class=\"alert alert-block alert-success\">\n",
    "<b>Comentario de Revisor</b> <a class=\"tocSkip\"></a>\n",
    "\n",
    "La normalización está bien, pero no es necesario para una regresión lineal estándar (sin regularización u otro efecto)\n",
    "</div>"
   ]
  },
  {
   "cell_type": "markdown",
   "metadata": {},
   "source": [
    "####  Entrenamiento y pruebas de modelos\n",
    "- Como vamos a realizar los conjuntos de entrenamiento, validacion y testeo correspondiente al número de DataFrame que tenemos, el proceso de entrenamiento para cada modelo sera a traves de funciones que utilizaremos en cada modelo.\n",
    "\n",
    "- Creamos una función para crear los conjuntos de entrenamiento y validacion con proporcion 75:25 para posteriormente entrenar el modelo y asi retornar un modelo entrenado con la función."
   ]
  },
  {
   "cell_type": "code",
   "execution_count": 70,
   "metadata": {},
   "outputs": [],
   "source": [
    "# Obtenemos los conjuntos de entrenamiento y validacion para la primera región\n",
    "features_train_0,target_train_0,features_valid_0,target_valid_0= trainSets(df_geo_0,'product',0.25,54321)\n",
    "# Obtenemos los conjuntos de entrenamiento y validacion para la segunda región\n",
    "features_train_1,target_train_1,features_valid_1,target_valid_1= trainSets(df_geo_1,'product',0.25,54321)\n",
    "# Obtenemos los conjuntos de entrenamiento y validacion para la tercera región\n",
    "features_train_2,target_train_2,features_valid_2,target_valid_2= trainSets(df_geo_2,'product',0.25,54231)"
   ]
  },
  {
   "cell_type": "markdown",
   "metadata": {},
   "source": [
    "#### Ahora creamos los diferentes conjuntos de modelo para cada region correspondiente."
   ]
  },
  {
   "cell_type": "code",
   "execution_count": 71,
   "metadata": {},
   "outputs": [
    {
     "name": "stdout",
     "output_type": "stream",
     "text": [
      "Modelo 0:\n",
      "El RMSE del modelo es: 37.68341093860808\n",
      "             f0        f1        f2\n",
      "47590  1.163499 -0.868710  0.357863\n",
      "39469  1.306170 -1.524645  0.705086\n",
      "88291 -0.503067  0.493214 -0.148966\n",
      "46565  0.055040 -1.144698 -0.221402\n",
      "55316 -0.656839  1.335292  0.126680\n",
      "...         ...       ...       ...\n",
      "27645  1.708992  0.174967  1.144315\n",
      "57064 -0.458142 -0.496682  0.591779\n",
      "73541  0.507760  0.389652  0.281978\n",
      "10466 -1.435712  0.831824  2.302754\n",
      "14296  0.576066 -0.098650  0.793750\n",
      "\n",
      "[25000 rows x 3 columns]\n",
      "\n",
      "Modelo 1:\n",
      "El RMSE del modelo es: 0.892281970848147\n",
      "             f0        f1        f2\n",
      "47590  1.229753  2.586988 -0.876886\n",
      "39469 -0.642109 -0.249918 -1.464878\n",
      "88291  1.935910  0.552506  0.878490\n",
      "46565 -0.827784  0.444880 -0.291587\n",
      "55316 -0.944756  2.042686  0.884200\n",
      "...         ...       ...       ...\n",
      "27645 -0.602915 -1.151283 -1.468166\n",
      "57064  0.947552  0.853730 -1.470077\n",
      "73541 -0.981110 -0.358875  0.298147\n",
      "10466 -0.954442 -0.158365 -1.463627\n",
      "14296 -0.545814 -1.378312 -0.876616\n",
      "\n",
      "[25000 rows x 3 columns]\n",
      "\n",
      "Modelo 2:\n",
      "El RMSE del modelo es: 40.015077523887435\n",
      "             f0        f1        f2\n",
      "63466 -0.706032  0.720132 -0.061094\n",
      "17660  1.679567 -1.006304  1.013983\n",
      "27102 -0.127026  2.446040 -0.534345\n",
      "73361  0.021915  0.637287  0.041079\n",
      "6857  -0.247970 -0.556161 -1.309588\n",
      "...         ...       ...       ...\n",
      "99608 -0.588181  1.248355  1.418356\n",
      "70013 -0.297786 -1.867301  0.907142\n",
      "81125 -0.195334 -0.432723 -0.552731\n",
      "19762  0.159905 -0.758379  1.472402\n",
      "15578 -0.489645  0.850855  0.578850\n",
      "\n",
      "[25000 rows x 3 columns]\n"
     ]
    }
   ],
   "source": [
    "print('Modelo 0:')\n",
    "model_0,predictions_0=trainModel(features_train_0,target_train_0,features_valid_0,target_valid_0,12345)\n",
    "print()\n",
    "print('Modelo 1:')\n",
    "model_1,predictions_1=trainModel(features_train_1,target_train_1,features_valid_1,target_valid_1,12345)\n",
    "print()\n",
    "print('Modelo 2:')\n",
    "model_2,predictions_2=trainModel(features_train_2,target_train_2,features_valid_2,target_valid_2,12345)"
   ]
  },
  {
   "cell_type": "markdown",
   "metadata": {},
   "source": [
    "<div class=\"alert alert-block alert-success\">\n",
    "<b>Comentario de Revisor</b> <a class=\"tocSkip\"></a>\n",
    "\n",
    "Muy bien, correcto\n",
    "</div>"
   ]
  },
  {
   "cell_type": "markdown",
   "metadata": {},
   "source": [
    "#### Las predicciones obtenidas la concatenaremos a sus dataframe por region correspondiente."
   ]
  },
  {
   "cell_type": "code",
   "execution_count": 72,
   "metadata": {
    "scrolled": true
   },
   "outputs": [
    {
     "name": "stdout",
     "output_type": "stream",
     "text": [
      "<class 'pandas.core.frame.DataFrame'>\n",
      "RangeIndex: 100000 entries, 0 to 99999\n",
      "Data columns (total 5 columns):\n",
      " #   Column           Non-Null Count   Dtype  \n",
      "---  ------           --------------   -----  \n",
      " 0   f0               100000 non-null  float64\n",
      " 1   f1               100000 non-null  float64\n",
      " 2   f2               100000 non-null  float64\n",
      " 3   product          100000 non-null  float64\n",
      " 4   predicted_value  100000 non-null  float64\n",
      "dtypes: float64(5)\n",
      "memory usage: 3.8 MB\n",
      "<class 'pandas.core.frame.DataFrame'>\n",
      "RangeIndex: 100000 entries, 0 to 99999\n",
      "Data columns (total 5 columns):\n",
      " #   Column           Non-Null Count   Dtype  \n",
      "---  ------           --------------   -----  \n",
      " 0   f0               100000 non-null  float64\n",
      " 1   f1               100000 non-null  float64\n",
      " 2   f2               100000 non-null  float64\n",
      " 3   product          100000 non-null  float64\n",
      " 4   predicted_value  100000 non-null  float64\n",
      "dtypes: float64(5)\n",
      "memory usage: 3.8 MB\n",
      "<class 'pandas.core.frame.DataFrame'>\n",
      "RangeIndex: 100000 entries, 0 to 99999\n",
      "Data columns (total 5 columns):\n",
      " #   Column           Non-Null Count   Dtype  \n",
      "---  ------           --------------   -----  \n",
      " 0   f0               100000 non-null  float64\n",
      " 1   f1               100000 non-null  float64\n",
      " 2   f2               100000 non-null  float64\n",
      " 3   product          100000 non-null  float64\n",
      " 4   predicted_value  100000 non-null  float64\n",
      "dtypes: float64(5)\n",
      "memory usage: 3.8 MB\n"
     ]
    }
   ],
   "source": [
    "df_geo_0['predicted_value']=model_0.predict(df_geo_0.iloc[:,:3])\n",
    "df_geo_0.info()\n",
    "df_geo_1['predicted_value']=model_1.predict(df_geo_1.iloc[:,:3])\n",
    "df_geo_1.info()\n",
    "df_geo_2['predicted_value']=model_2.predict(df_geo_2.iloc[:,:3])\n",
    "df_geo_2.info()"
   ]
  },
  {
   "cell_type": "markdown",
   "metadata": {},
   "source": [
    "### Calculo y estadisticas del proyecto\n",
    "- Recordemos que tenemos una inversion(presupuesto) de 100 millones por los 200 pozos de petroleo, y en media un pozo debe producir al menos 500.000 dolares (income=ingreso)"
   ]
  },
  {
   "cell_type": "code",
   "execution_count": 73,
   "metadata": {
    "scrolled": true
   },
   "outputs": [],
   "source": [
    "# Recalcular las ganancias con el ingreso promedio por pozo\n",
    "revenue_0 = revenue(df_geo_0, 500000, 100000000)\n",
    "revenue_1 = revenue(df_geo_1, 500000, 100000000)\n",
    "revenue_2 = revenue(df_geo_2, 500000, 100000000)"
   ]
  },
  {
   "cell_type": "code",
   "execution_count": 74,
   "metadata": {
    "scrolled": true
   },
   "outputs": [
    {
     "name": "stdout",
     "output_type": "stream",
     "text": [
      "Las ganacias para la primera region(geo_0)es: 14891480533.086359\n",
      "Las ganacias para la primera region(geo_1)es: 13694540774.090569\n",
      "Las ganacias para la primera region(geo_2)es: 13920493063.634607\n"
     ]
    }
   ],
   "source": [
    "print('Las ganacias para la primera region(geo_0)es:',revenue_0)\n",
    "print('Las ganacias para la primera region(geo_1)es:',revenue_1)\n",
    "print('Las ganacias para la primera region(geo_2)es:',revenue_2)"
   ]
  },
  {
   "cell_type": "markdown",
   "metadata": {},
   "source": [
    "<div class=\"alert alert-block alert-success\">\n",
    "<b>Comentario de Revisor</b> <a class=\"tocSkip\"></a>\n",
    "\n",
    "Muy bien, correcto\n",
    "</div>"
   ]
  },
  {
   "cell_type": "markdown",
   "metadata": {},
   "source": [
    "#### Ahora haremos la distinicion de los beneficios con bootstraping aplicando 1000 muestras"
   ]
  },
  {
   "cell_type": "code",
   "execution_count": 75,
   "metadata": {
    "scrolled": false
   },
   "outputs": [
    {
     "name": "stdout",
     "output_type": "stream",
     "text": [
      "Distribucion de los beneficios para geo_0\n",
      "Ingresos promedio: 4236622.247321725\n",
      "Cuantil del 2.5 %: -747793.9636190488\n",
      "Cuantil del 97.5%: 9661091.513917394\n",
      "Riesgo calculado (porcentaje de beneficios negativos): 5.30%\n",
      "\n",
      "Distribucion de los beneficios para geo_1\n",
      "Ingresos promedio: 4487249.31822938\n",
      "Cuantil del 2.5 %: 374980.7453396168\n",
      "Cuantil del 97.5%: 8238299.202083874\n",
      "Riesgo calculado (porcentaje de beneficios negativos): 1.40%\n",
      "\n",
      "Distribucion de los beneficios para geo_2\n",
      "Ingresos promedio: 3735196.7914293967\n",
      "Cuantil del 2.5 %: -1874305.5365001168\n",
      "Cuantil del 97.5%: 9044997.076285833\n",
      "Riesgo calculado (porcentaje de beneficios negativos): 9.10%\n"
     ]
    }
   ],
   "source": [
    "# Ejemplo de uso con datos corregidos\n",
    "print('Distribucion de los beneficios para geo_0')\n",
    "boot_revenue_0 = bootstrapping_for_model(df_geo_0, 1000, 4500, 100_000_000, 12345)\n",
    "print('')\n",
    "print('Distribucion de los beneficios para geo_1')\n",
    "boot_revenue_1 = bootstrapping_for_model(df_geo_1, 1000, 4500, 100_000_000, 12345)\n",
    "print('')\n",
    "print('Distribucion de los beneficios para geo_2')\n",
    "boot_revenue_2 = bootstrapping_for_model(df_geo_2, 1000, 4500, 100_000_000, 12345)\n"
   ]
  },
  {
   "cell_type": "markdown",
   "metadata": {},
   "source": [
    "<div class=\"alert alert-block alert-success\">\n",
    "<b>Comentario de Revisor</b> <a class=\"tocSkip\"></a>\n",
    "\n",
    "Muy bien! Correcto\n",
    "    \n",
    "\n",
    "</div>"
   ]
  },
  {
   "cell_type": "code",
   "execution_count": 81,
   "metadata": {},
   "outputs": [
    {
     "data": {
      "image/png": "[encoded data removed]",
      "text/plain": [
       "<Figure size 1400x800 with 1 Axes>"
      ]
     },
     "metadata": {},
     "output_type": "display_data"
    }
   ],
   "source": [
    "# Datos de los beneficios para cada región\n",
    "# Datos actualizados\n",
    "regions = ['Geo 0', 'Geo 1', 'Geo 2']\n",
    "average_revenues = [4236622.25, 4487249.32, 3735196.79]\n",
    "quantile_2_5 = [-747793.96, 374980.75, -1874305.54]\n",
    "quantile_97_5 = [9661091.51, 8238299.20, 9044997.08]\n",
    "\n",
    "# Crear una gráfica de barras para los ingresos promedio\n",
    "plt.figure(figsize=(14, 8))\n",
    "bars = plt.bar(regions, average_revenues, color=['#4CAF50', '#2196F3', '#FFC107'], label='Ingresos promedio')\n",
    "\n",
    "# Añadir líneas para los cuantiles del 2.5% y 97.5%\n",
    "for i, region in enumerate(regions):\n",
    "    plt.plot([i-0.2, i+0.2], [quantile_2_5[i], quantile_2_5[i]], color='red', linestyle='--', label='Cuantil 2.5%' if i == 0 else \"\")\n",
    "    plt.plot([i-0.2, i+0.2], [quantile_97_5[i], quantile_97_5[i]], color='blue', linestyle='--', label='Cuantil 97.5%' if i == 0 else \"\")\n",
    "\n",
    "# Añadir etiquetas de valores en las barras\n",
    "for bar in bars:\n",
    "    height = bar.get_height()\n",
    "    plt.text(bar.get_x() + bar.get_width() / 2.0, height, f'${height:,.2f}', ha='center', va='bottom', fontsize=12, color='black')\n",
    "\n",
    "# Estilizar el gráfico\n",
    "plt.title('Distribución de los Beneficios por Región', fontsize=16, fontweight='bold')\n",
    "plt.xlabel('Región', fontsize=14)\n",
    "plt.ylabel('Beneficios', fontsize=14)\n",
    "plt.xticks(fontsize=12)\n",
    "plt.yticks(fontsize=12)\n",
    "plt.legend()\n",
    "plt.grid(axis='y', linestyle='--', alpha=0.7)\n",
    "plt.show()"
   ]
  },
  {
   "cell_type": "markdown",
   "metadata": {},
   "source": [
    "<div class=\"alert alert-block alert-success\">\n",
    "<b>Comentario de Revisor</b> <a class=\"tocSkip\"></a>\n",
    "\n",
    "Muy bien, corregido! Los gráficos están muy bien ya que ayudan a visualizar inmediatamente cómo se comparan las regiones\n",
    "</div>"
   ]
  },
  {
   "cell_type": "markdown",
   "metadata": {},
   "source": [
    "### Conclusión"
   ]
  },
  {
   "cell_type": "markdown",
   "metadata": {},
   "source": [
    "- Ingresos Promedio:\n",
    "\n",
    "Geo 0: $11,481,846,916.37\n",
    "Geo 1: $11,509,694,368.69\n",
    "Geo 2: $11,426,132,976.83\n",
    "Los ingresos promedio más altos se encuentran en la región Geo 1, seguidos por Geo 0 y luego Geo 2. Esto sugiere que la región Geo 1 es la más rentable en términos de beneficios promedio.\n",
    "\n",
    "- Cuantil del 2.5%:\n",
    "\n",
    "Geo 0: $-747,793.96\n",
    "Geo 1: $374,980.75\n",
    "Geo 2: $-1,874,305.54\n",
    "El cuantil del 2.5% es una medida conservadora de los ingresos, indicando el valor por debajo del cual caen el 2.5% de las observaciones más bajas. La región Geo 1 tiene el cuantil del 2.5% más alto, lo que sugiere que incluso en los peores escenarios, sus ingresos tienden a ser relativamente positivos. Geo 0 y Geo 2 tienen valores negativos en este cuantil, lo que indica que existe una posibilidad considerable de pérdidas en estos casos.\n",
    "\n",
    "- Cuantil del 97.5%:\n",
    "\n",
    "Geo 0: $9,661,091,513.92\n",
    "Geo 1: $8,238,299,202.08\n",
    "Geo 2: $9,044,997,076.29\n",
    "El cuantil del 97.5% indica el valor por debajo del cual caen el 97.5% de las observaciones más altas. Aquí, Geo 0 tiene el cuantil más alto, lo que refuerza su posición como la región con potencial para los ingresos más altos. Geo 1 tiene el cuantil del 97.5% más bajo, indicando que aunque es más constante, no alcanza los niveles máximos de Geo 0 y Geo 2.\n",
    "\n",
    "- Comparación General:\n",
    "\n",
    "Geo 0 tiene los ingresos promedio y los ingresos en el cuantil del 97.5% más altos, pero también el cuantil del 2.5% más bajo, lo que indica una mayor volatilidad y riesgo de pérdidas.\n",
    "Geo 1 tiene los ingresos más bajos en promedio y en el cuantil del 97.5%, pero su cuantil del 2.5% es el más alto, indicando mayor consistencia y menor riesgo de pérdidas.\n",
    "Geo 2 es intermedia en términos de ingresos promedio y cuantiles, lo que sugiere un balance entre alto rendimiento y estabilidad."
   ]
  },
  {
   "cell_type": "markdown",
   "metadata": {},
   "source": [
    "#### Resumen"
   ]
  },
  {
   "cell_type": "markdown",
   "metadata": {},
   "source": [
    "- Geo 0: Alta rentabilidad pero con mayor riesgo (mayor volatilidad y posibilidad de pérdidas).\n",
    "- Geo 1: Rentabilidad más baja pero más estable y consistente, con menor riesgo de pérdidas.\n",
    "- Geo 2: Un balance entre rentabilidad y estabilidad, con un riesgo intermedio."
   ]
  },
  {
   "cell_type": "markdown",
   "metadata": {},
   "source": [
    "#### Recomendaciones"
   ]
  },
  {
   "cell_type": "markdown",
   "metadata": {},
   "source": [
    "- Inversiones a Largo Plazo: Geo 0 podría ser más adecuado si se busca maximizar beneficios y se puede tolerar mayor riesgo y volatilidad.\n",
    "- Estabilidad y Consistencia: Geo 1 es ideal para aquellos que prefieren menores fluctuaciones en los ingresos y menor riesgo de pérdidas.\n",
    "- Equilibrio: Geo 2 ofrece un buen balance entre rendimiento y riesgo, adecuado para estrategias que buscan una combinación de ambos."
   ]
  },
  {
   "cell_type": "markdown",
   "metadata": {},
   "source": [
    "##### Sugerencia de la Mejor Región para el Desarrollo de Pozos"
   ]
  },
  {
   "cell_type": "markdown",
   "metadata": {},
   "source": [
    "- Pozos\n",
    "\n",
    "Basado en el análisis de los ingresos promedio y los cuantiles del 2.5% y 97.5%, la mejor región para el desarrollo de pozos parece ser Geo 0. Aquí están las razones y justificaciones detalladas para esta elección:\n",
    "\n",
    "- Justificación:\n",
    "\n",
    "Geo 0 tiene el ingreso promedio más alto entre las tres regiones. Esto indica que, en general, los pozos en esta región generan mayores ingresos, lo que es un indicador clave de rentabilidad.\n",
    "Geo 0 también tiene el cuantil del 97.5% más alto. Esto significa que en los mejores escenarios, los pozos en esta región tienen el potencial de generar los ingresos más altos, lo que es crucial para maximizar el retorno de la inversión.\n",
    "- Volatilidad y Riesgo:\n",
    "\n",
    "Geo 0 tiene el cuantil del 2.5% más bajo, indicando una mayor volatilidad en comparación con las otras regiones. A pesar de la mayor volatilidad y riesgo de pérdidas, el alto ingreso promedio y el alto cuantil del 97.5% sugieren que Geo 0 es la región con el mayor potencial de ganancias.\n",
    "- Conclusión:\n",
    "\n",
    "Aunque Geo 0 muestra una mayor volatilidad y riesgo de pérdidas en comparación con Geo 1, su capacidad para generar mayores ingresos promedio y en escenarios optimistas la hace la mejor opción para el desarrollo de pozos. Los ingresos potencialmente altos compensan el mayor riesgo asociado con la volatilidad.\n",
    "\n",
    "- Recomendación:\n",
    "\n",
    "Se recomienda priorizar el desarrollo de pozos en la región Geo 0 debido a su alto potencial de ingresos, a pesar del riesgo asociado. Esta estrategia debería maximizar los beneficios totales a largo plazo."
   ]
  },
  {
   "cell_type": "markdown",
   "metadata": {},
   "source": [
    "<div class=\"alert alert-block alert-success\">\n",
    "<b>Comentario de Revisor</b> <a class=\"tocSkip\"></a>\n",
    "\n",
    "Muy bien con las conclusiones. Como sugerencia, cuando mencionas por ejemplo \"alto potencial de ingresos\", podrías indicar la cantidad o qué tan más grande es que los otros en términos absolutos o porcentuales.\n",
    "    \n",
    "\n",
    "</div>"
   ]
  }
 ],
 "metadata": {
  "ExecuteTimeLog": [
   {
    "duration": 5281,
    "start_time": "2024-07-25T00:25:17.294Z"
   },
   {
    "duration": 6,
    "start_time": "2024-07-25T00:25:22.579Z"
   },
   {
    "duration": 8,
    "start_time": "2024-07-25T00:25:23.618Z"
   },
   {
    "duration": 5,
    "start_time": "2024-07-25T00:25:25.944Z"
   },
   {
    "duration": 5,
    "start_time": "2024-07-25T00:25:28.616Z"
   },
   {
    "duration": 8,
    "start_time": "2024-07-25T00:25:31.699Z"
   },
   {
    "duration": 4,
    "start_time": "2024-07-25T00:25:34.847Z"
   },
   {
    "duration": 9,
    "start_time": "2024-07-25T00:25:37.309Z"
   },
   {
    "duration": 494,
    "start_time": "2024-07-25T00:26:29.346Z"
   },
   {
    "duration": 1393,
    "start_time": "2024-07-25T00:51:46.975Z"
   },
   {
    "duration": 6,
    "start_time": "2024-07-25T00:51:48.371Z"
   },
   {
    "duration": 6,
    "start_time": "2024-07-25T00:51:48.380Z"
   },
   {
    "duration": 21,
    "start_time": "2024-07-25T00:51:48.389Z"
   },
   {
    "duration": 6,
    "start_time": "2024-07-25T00:51:48.416Z"
   },
   {
    "duration": 9,
    "start_time": "2024-07-25T00:51:48.425Z"
   },
   {
    "duration": 5,
    "start_time": "2024-07-25T00:51:48.437Z"
   },
   {
    "duration": 7,
    "start_time": "2024-07-25T00:51:48.444Z"
   },
   {
    "duration": 415,
    "start_time": "2024-07-25T00:51:48.455Z"
   },
   {
    "duration": 136,
    "start_time": "2024-07-25T00:51:48.872Z"
   },
   {
    "duration": 131,
    "start_time": "2024-07-25T00:51:49.011Z"
   },
   {
    "duration": 135,
    "start_time": "2024-07-25T00:51:49.145Z"
   },
   {
    "duration": 47,
    "start_time": "2024-07-25T00:51:49.283Z"
   },
   {
    "duration": 2538,
    "start_time": "2024-07-25T00:51:49.336Z"
   },
   {
    "duration": 4,
    "start_time": "2024-07-25T00:51:59.198Z"
   },
   {
    "duration": 5,
    "start_time": "2024-07-25T00:51:59.207Z"
   },
   {
    "duration": 6,
    "start_time": "2024-07-25T00:51:59.215Z"
   },
   {
    "duration": 6,
    "start_time": "2024-07-25T00:51:59.226Z"
   },
   {
    "duration": 6,
    "start_time": "2024-07-25T00:51:59.235Z"
   },
   {
    "duration": 9,
    "start_time": "2024-07-25T00:51:59.244Z"
   },
   {
    "duration": 5,
    "start_time": "2024-07-25T00:51:59.255Z"
   },
   {
    "duration": 6,
    "start_time": "2024-07-25T00:51:59.310Z"
   },
   {
    "duration": 382,
    "start_time": "2024-07-25T00:51:59.322Z"
   },
   {
    "duration": 135,
    "start_time": "2024-07-25T00:51:59.706Z"
   },
   {
    "duration": 123,
    "start_time": "2024-07-25T00:51:59.844Z"
   },
   {
    "duration": 140,
    "start_time": "2024-07-25T00:51:59.970Z"
   },
   {
    "duration": 35,
    "start_time": "2024-07-25T00:52:00.113Z"
   },
   {
    "duration": 2567,
    "start_time": "2024-07-25T00:52:00.151Z"
   },
   {
    "duration": 4,
    "start_time": "2024-07-25T00:52:11.318Z"
   },
   {
    "duration": 5,
    "start_time": "2024-07-25T00:52:12.008Z"
   },
   {
    "duration": 6,
    "start_time": "2024-07-25T00:52:12.715Z"
   },
   {
    "duration": 4,
    "start_time": "2024-07-25T00:52:13.598Z"
   },
   {
    "duration": 5,
    "start_time": "2024-07-25T00:52:14.400Z"
   },
   {
    "duration": 8,
    "start_time": "2024-07-25T00:52:15.146Z"
   },
   {
    "duration": 5,
    "start_time": "2024-07-25T00:52:16.027Z"
   },
   {
    "duration": 7,
    "start_time": "2024-07-25T00:52:17.045Z"
   },
   {
    "duration": 352,
    "start_time": "2024-07-25T00:52:18.040Z"
   },
   {
    "duration": 117,
    "start_time": "2024-07-25T00:52:19.394Z"
   },
   {
    "duration": 118,
    "start_time": "2024-07-25T00:52:20.214Z"
   },
   {
    "duration": 113,
    "start_time": "2024-07-25T00:52:21.020Z"
   },
   {
    "duration": 34,
    "start_time": "2024-07-25T00:52:22.977Z"
   },
   {
    "duration": 2621,
    "start_time": "2024-07-25T00:52:23.751Z"
   },
   {
    "duration": 427,
    "start_time": "2024-07-25T00:55:05.267Z"
   },
   {
    "duration": 2591,
    "start_time": "2024-07-25T00:55:13.696Z"
   },
   {
    "duration": 45,
    "start_time": "2024-07-25T00:55:16.290Z"
   },
   {
    "duration": 43,
    "start_time": "2024-07-25T00:55:17.188Z"
   },
   {
    "duration": 49,
    "start_time": "2024-07-25T00:55:22.280Z"
   },
   {
    "duration": 81,
    "start_time": "2024-07-25T00:56:03.244Z"
   },
   {
    "duration": 3,
    "start_time": "2024-07-25T00:56:36.882Z"
   },
   {
    "duration": 5,
    "start_time": "2024-07-25T00:58:45.825Z"
   },
   {
    "duration": 6,
    "start_time": "2024-07-25T00:58:46.301Z"
   },
   {
    "duration": 7,
    "start_time": "2024-07-25T00:58:46.715Z"
   },
   {
    "duration": 5,
    "start_time": "2024-07-25T00:58:47.135Z"
   },
   {
    "duration": 6,
    "start_time": "2024-07-25T00:58:47.533Z"
   },
   {
    "duration": 8,
    "start_time": "2024-07-25T00:58:47.960Z"
   },
   {
    "duration": 5,
    "start_time": "2024-07-25T00:58:48.347Z"
   },
   {
    "duration": 6,
    "start_time": "2024-07-25T00:58:48.766Z"
   },
   {
    "duration": 357,
    "start_time": "2024-07-25T00:58:49.161Z"
   },
   {
    "duration": 117,
    "start_time": "2024-07-25T00:58:49.556Z"
   },
   {
    "duration": 112,
    "start_time": "2024-07-25T00:58:49.747Z"
   },
   {
    "duration": 117,
    "start_time": "2024-07-25T00:58:49.938Z"
   },
   {
    "duration": 33,
    "start_time": "2024-07-25T00:58:50.323Z"
   },
   {
    "duration": 2456,
    "start_time": "2024-07-25T00:58:50.505Z"
   },
   {
    "duration": 46,
    "start_time": "2024-07-25T00:58:52.965Z"
   },
   {
    "duration": 41,
    "start_time": "2024-07-25T00:58:53.013Z"
   },
   {
    "duration": 74,
    "start_time": "2024-07-25T00:58:53.061Z"
   },
   {
    "duration": 193,
    "start_time": "2024-07-25T00:58:53.138Z"
   },
   {
    "duration": 144,
    "start_time": "2024-07-25T00:58:53.408Z"
   },
   {
    "duration": 5,
    "start_time": "2024-07-25T00:58:53.555Z"
   },
   {
    "duration": 2748,
    "start_time": "2024-07-25T00:58:53.563Z"
   },
   {
    "duration": 261,
    "start_time": "2024-07-25T01:01:48.633Z"
   },
   {
    "duration": 389,
    "start_time": "2024-07-25T01:07:51.792Z"
   },
   {
    "duration": 3,
    "start_time": "2024-07-25T01:12:09.498Z"
   },
   {
    "duration": 3,
    "start_time": "2024-07-25T01:12:12.143Z"
   },
   {
    "duration": 3,
    "start_time": "2024-07-25T01:12:16.801Z"
   },
   {
    "duration": 3,
    "start_time": "2024-07-25T01:17:08.028Z"
   },
   {
    "duration": 3,
    "start_time": "2024-07-25T01:25:01.840Z"
   },
   {
    "duration": 42,
    "start_time": "2024-07-25T01:25:10.191Z"
   },
   {
    "duration": 5036,
    "start_time": "2024-07-26T00:43:30.898Z"
   },
   {
    "duration": 6,
    "start_time": "2024-07-26T00:43:35.938Z"
   },
   {
    "duration": 6,
    "start_time": "2024-07-26T00:43:35.948Z"
   },
   {
    "duration": 5,
    "start_time": "2024-07-26T00:43:35.959Z"
   },
   {
    "duration": 38,
    "start_time": "2024-07-26T00:43:35.968Z"
   },
   {
    "duration": 9,
    "start_time": "2024-07-26T00:43:36.009Z"
   },
   {
    "duration": 13,
    "start_time": "2024-07-26T00:43:36.021Z"
   },
   {
    "duration": 7,
    "start_time": "2024-07-26T00:43:36.036Z"
   },
   {
    "duration": 515,
    "start_time": "2024-07-26T00:43:36.047Z"
   },
   {
    "duration": 122,
    "start_time": "2024-07-26T00:43:36.650Z"
   },
   {
    "duration": 113,
    "start_time": "2024-07-26T00:43:37.246Z"
   },
   {
    "duration": 135,
    "start_time": "2024-07-26T00:43:37.908Z"
   },
   {
    "duration": 36,
    "start_time": "2024-07-26T00:43:38.576Z"
   },
   {
    "duration": 2661,
    "start_time": "2024-07-26T00:43:39.227Z"
   },
   {
    "duration": 46,
    "start_time": "2024-07-26T00:43:41.891Z"
   },
   {
    "duration": 43,
    "start_time": "2024-07-26T00:43:41.940Z"
   },
   {
    "duration": 133,
    "start_time": "2024-07-26T00:43:41.986Z"
   },
   {
    "duration": 113,
    "start_time": "2024-07-26T00:43:42.912Z"
   },
   {
    "duration": 74,
    "start_time": "2024-07-26T00:43:44.369Z"
   },
   {
    "duration": 5,
    "start_time": "2024-07-26T00:43:45.194Z"
   },
   {
    "duration": 2602,
    "start_time": "2024-07-26T00:43:46.504Z"
   },
   {
    "duration": 402,
    "start_time": "2024-07-26T00:43:49.109Z"
   },
   {
    "duration": 1384,
    "start_time": "2024-07-26T00:49:40.200Z"
   },
   {
    "duration": 6,
    "start_time": "2024-07-26T00:49:41.587Z"
   },
   {
    "duration": 11,
    "start_time": "2024-07-26T00:49:41.597Z"
   },
   {
    "duration": 6,
    "start_time": "2024-07-26T00:49:41.612Z"
   },
   {
    "duration": 6,
    "start_time": "2024-07-26T00:49:41.621Z"
   },
   {
    "duration": 8,
    "start_time": "2024-07-26T00:49:41.631Z"
   },
   {
    "duration": 5,
    "start_time": "2024-07-26T00:49:41.642Z"
   },
   {
    "duration": 6,
    "start_time": "2024-07-26T00:49:41.653Z"
   },
   {
    "duration": 393,
    "start_time": "2024-07-26T00:49:41.707Z"
   },
   {
    "duration": 125,
    "start_time": "2024-07-26T00:49:42.105Z"
   },
   {
    "duration": 132,
    "start_time": "2024-07-26T00:49:42.233Z"
   },
   {
    "duration": 140,
    "start_time": "2024-07-26T00:49:42.368Z"
   },
   {
    "duration": 36,
    "start_time": "2024-07-26T00:49:42.511Z"
   },
   {
    "duration": 2575,
    "start_time": "2024-07-26T00:49:42.550Z"
   },
   {
    "duration": 39,
    "start_time": "2024-07-26T00:49:45.128Z"
   },
   {
    "duration": 64,
    "start_time": "2024-07-26T00:49:45.170Z"
   },
   {
    "duration": 85,
    "start_time": "2024-07-26T00:49:45.237Z"
   },
   {
    "duration": 186,
    "start_time": "2024-07-26T00:49:45.327Z"
   },
   {
    "duration": 138,
    "start_time": "2024-07-26T00:49:45.519Z"
   },
   {
    "duration": 6,
    "start_time": "2024-07-26T00:49:45.660Z"
   },
   {
    "duration": 2568,
    "start_time": "2024-07-26T00:49:45.669Z"
   },
   {
    "duration": 399,
    "start_time": "2024-07-26T00:49:48.240Z"
   },
   {
    "duration": 4,
    "start_time": "2024-07-26T00:50:11.655Z"
   },
   {
    "duration": 5,
    "start_time": "2024-07-26T00:50:11.664Z"
   },
   {
    "duration": 7,
    "start_time": "2024-07-26T00:50:11.672Z"
   },
   {
    "duration": 5,
    "start_time": "2024-07-26T00:50:11.682Z"
   },
   {
    "duration": 5,
    "start_time": "2024-07-26T00:50:11.692Z"
   },
   {
    "duration": 9,
    "start_time": "2024-07-26T00:50:11.700Z"
   },
   {
    "duration": 5,
    "start_time": "2024-07-26T00:50:11.712Z"
   },
   {
    "duration": 8,
    "start_time": "2024-07-26T00:50:11.720Z"
   },
   {
    "duration": 384,
    "start_time": "2024-07-26T00:50:11.731Z"
   },
   {
    "duration": 141,
    "start_time": "2024-07-26T00:50:12.118Z"
   },
   {
    "duration": 124,
    "start_time": "2024-07-26T00:50:12.262Z"
   },
   {
    "duration": 4,
    "start_time": "2024-07-26T00:50:19.735Z"
   },
   {
    "duration": 6,
    "start_time": "2024-07-26T00:50:20.220Z"
   },
   {
    "duration": 7,
    "start_time": "2024-07-26T00:50:20.542Z"
   },
   {
    "duration": 5,
    "start_time": "2024-07-26T00:50:20.858Z"
   },
   {
    "duration": 6,
    "start_time": "2024-07-26T00:50:21.187Z"
   },
   {
    "duration": 7,
    "start_time": "2024-07-26T00:50:21.518Z"
   },
   {
    "duration": 5,
    "start_time": "2024-07-26T00:50:21.851Z"
   },
   {
    "duration": 6,
    "start_time": "2024-07-26T00:50:22.188Z"
   },
   {
    "duration": 354,
    "start_time": "2024-07-26T00:50:22.529Z"
   },
   {
    "duration": 116,
    "start_time": "2024-07-26T00:50:23.042Z"
   },
   {
    "duration": 113,
    "start_time": "2024-07-26T00:50:23.405Z"
   },
   {
    "duration": 113,
    "start_time": "2024-07-26T00:50:23.760Z"
   },
   {
    "duration": 35,
    "start_time": "2024-07-26T00:50:24.120Z"
   },
   {
    "duration": 2503,
    "start_time": "2024-07-26T00:50:24.463Z"
   },
   {
    "duration": 53,
    "start_time": "2024-07-26T00:50:26.971Z"
   },
   {
    "duration": 42,
    "start_time": "2024-07-26T00:50:27.026Z"
   },
   {
    "duration": 140,
    "start_time": "2024-07-26T00:50:27.072Z"
   },
   {
    "duration": 206,
    "start_time": "2024-07-26T00:50:27.216Z"
   },
   {
    "duration": 216,
    "start_time": "2024-07-26T00:50:27.428Z"
   },
   {
    "duration": 4,
    "start_time": "2024-07-26T00:50:27.647Z"
   },
   {
    "duration": 2587,
    "start_time": "2024-07-26T00:50:27.655Z"
   },
   {
    "duration": 367,
    "start_time": "2024-07-26T00:50:30.245Z"
   },
   {
    "duration": 1482,
    "start_time": "2024-07-27T16:38:30.939Z"
   },
   {
    "duration": 6,
    "start_time": "2024-07-27T16:38:32.425Z"
   },
   {
    "duration": 6,
    "start_time": "2024-07-27T16:38:32.434Z"
   },
   {
    "duration": 6,
    "start_time": "2024-07-27T16:38:32.444Z"
   },
   {
    "duration": 47,
    "start_time": "2024-07-27T16:38:32.454Z"
   },
   {
    "duration": 9,
    "start_time": "2024-07-27T16:38:32.504Z"
   },
   {
    "duration": 5,
    "start_time": "2024-07-27T16:38:32.517Z"
   },
   {
    "duration": 7,
    "start_time": "2024-07-27T16:38:32.526Z"
   },
   {
    "duration": 521,
    "start_time": "2024-07-27T16:38:32.536Z"
   },
   {
    "duration": 154,
    "start_time": "2024-07-27T16:38:33.064Z"
   },
   {
    "duration": 138,
    "start_time": "2024-07-27T16:38:33.221Z"
   },
   {
    "duration": 149,
    "start_time": "2024-07-27T16:38:33.362Z"
   },
   {
    "duration": 38,
    "start_time": "2024-07-27T16:38:33.514Z"
   },
   {
    "duration": 2686,
    "start_time": "2024-07-27T16:38:33.555Z"
   },
   {
    "duration": 60,
    "start_time": "2024-07-27T16:38:36.244Z"
   },
   {
    "duration": 49,
    "start_time": "2024-07-27T16:38:36.308Z"
   },
   {
    "duration": 154,
    "start_time": "2024-07-27T16:38:36.360Z"
   },
   {
    "duration": 202,
    "start_time": "2024-07-27T16:38:36.518Z"
   },
   {
    "duration": 216,
    "start_time": "2024-07-27T16:38:36.724Z"
   },
   {
    "duration": 6,
    "start_time": "2024-07-27T16:38:36.942Z"
   },
   {
    "duration": 2669,
    "start_time": "2024-07-27T16:38:36.952Z"
   },
   {
    "duration": 390,
    "start_time": "2024-07-27T16:38:39.624Z"
   },
   {
    "duration": 1517,
    "start_time": "2024-07-27T16:58:05.890Z"
   },
   {
    "duration": 6,
    "start_time": "2024-07-27T16:58:07.411Z"
   },
   {
    "duration": 6,
    "start_time": "2024-07-27T16:58:07.421Z"
   },
   {
    "duration": 5,
    "start_time": "2024-07-27T16:58:07.433Z"
   },
   {
    "duration": 6,
    "start_time": "2024-07-27T16:58:07.442Z"
   },
   {
    "duration": 50,
    "start_time": "2024-07-27T16:58:07.452Z"
   },
   {
    "duration": 5,
    "start_time": "2024-07-27T16:58:07.505Z"
   },
   {
    "duration": 7,
    "start_time": "2024-07-27T16:58:07.515Z"
   },
   {
    "duration": 522,
    "start_time": "2024-07-27T16:58:07.526Z"
   },
   {
    "duration": 164,
    "start_time": "2024-07-27T16:58:08.056Z"
   },
   {
    "duration": 162,
    "start_time": "2024-07-27T16:58:08.223Z"
   },
   {
    "duration": 149,
    "start_time": "2024-07-27T16:58:08.389Z"
   },
   {
    "duration": 39,
    "start_time": "2024-07-27T16:58:08.541Z"
   },
   {
    "duration": 2675,
    "start_time": "2024-07-27T16:58:08.603Z"
   },
   {
    "duration": 54,
    "start_time": "2024-07-27T16:58:11.280Z"
   },
   {
    "duration": 64,
    "start_time": "2024-07-27T16:58:11.337Z"
   },
   {
    "duration": 112,
    "start_time": "2024-07-27T16:58:11.404Z"
   },
   {
    "duration": 194,
    "start_time": "2024-07-27T16:58:11.521Z"
   },
   {
    "duration": 230,
    "start_time": "2024-07-27T16:58:11.718Z"
   },
   {
    "duration": 6,
    "start_time": "2024-07-27T16:58:11.950Z"
   },
   {
    "duration": 2616,
    "start_time": "2024-07-27T16:58:11.959Z"
   },
   {
    "duration": 398,
    "start_time": "2024-07-27T16:58:14.578Z"
   },
   {
    "duration": 2586,
    "start_time": "2024-07-27T16:58:52.955Z"
   },
   {
    "duration": 2598,
    "start_time": "2024-07-27T16:59:10.741Z"
   },
   {
    "duration": 2646,
    "start_time": "2024-07-27T16:59:47.260Z"
   },
   {
    "duration": 5267,
    "start_time": "2024-07-29T21:52:09.246Z"
   },
   {
    "duration": 7,
    "start_time": "2024-07-29T21:52:14.518Z"
   },
   {
    "duration": 6,
    "start_time": "2024-07-29T21:52:14.529Z"
   },
   {
    "duration": 6,
    "start_time": "2024-07-29T21:52:14.540Z"
   },
   {
    "duration": 11,
    "start_time": "2024-07-29T21:52:14.549Z"
   },
   {
    "duration": 43,
    "start_time": "2024-07-29T21:52:14.563Z"
   },
   {
    "duration": 8,
    "start_time": "2024-07-29T21:52:14.610Z"
   },
   {
    "duration": 456,
    "start_time": "2024-07-29T21:52:14.622Z"
   },
   {
    "duration": 0,
    "start_time": "2024-07-29T21:52:15.082Z"
   },
   {
    "duration": 0,
    "start_time": "2024-07-29T21:52:15.084Z"
   },
   {
    "duration": 0,
    "start_time": "2024-07-29T21:52:15.087Z"
   },
   {
    "duration": 1,
    "start_time": "2024-07-29T21:52:15.088Z"
   },
   {
    "duration": 0,
    "start_time": "2024-07-29T21:52:15.090Z"
   },
   {
    "duration": 0,
    "start_time": "2024-07-29T21:52:15.102Z"
   },
   {
    "duration": 0,
    "start_time": "2024-07-29T21:52:15.105Z"
   },
   {
    "duration": 0,
    "start_time": "2024-07-29T21:52:15.108Z"
   },
   {
    "duration": 0,
    "start_time": "2024-07-29T21:52:15.110Z"
   },
   {
    "duration": 0,
    "start_time": "2024-07-29T21:52:15.112Z"
   },
   {
    "duration": 0,
    "start_time": "2024-07-29T21:52:15.115Z"
   },
   {
    "duration": 0,
    "start_time": "2024-07-29T21:52:15.116Z"
   },
   {
    "duration": 0,
    "start_time": "2024-07-29T21:52:15.119Z"
   },
   {
    "duration": 0,
    "start_time": "2024-07-29T21:52:15.122Z"
   },
   {
    "duration": 5,
    "start_time": "2024-07-29T21:52:19.280Z"
   },
   {
    "duration": 10,
    "start_time": "2024-07-29T21:52:19.289Z"
   },
   {
    "duration": 7,
    "start_time": "2024-07-29T21:52:19.304Z"
   },
   {
    "duration": 7,
    "start_time": "2024-07-29T21:52:19.315Z"
   },
   {
    "duration": 9,
    "start_time": "2024-07-29T21:52:19.328Z"
   },
   {
    "duration": 6,
    "start_time": "2024-07-29T21:52:19.343Z"
   },
   {
    "duration": 7,
    "start_time": "2024-07-29T21:52:19.401Z"
   },
   {
    "duration": 37,
    "start_time": "2024-07-29T21:52:19.412Z"
   },
   {
    "duration": 0,
    "start_time": "2024-07-29T21:52:19.454Z"
   },
   {
    "duration": 0,
    "start_time": "2024-07-29T21:52:19.456Z"
   },
   {
    "duration": 0,
    "start_time": "2024-07-29T21:52:19.458Z"
   },
   {
    "duration": 0,
    "start_time": "2024-07-29T21:52:19.460Z"
   },
   {
    "duration": 0,
    "start_time": "2024-07-29T21:52:19.462Z"
   },
   {
    "duration": 0,
    "start_time": "2024-07-29T21:52:19.464Z"
   },
   {
    "duration": 0,
    "start_time": "2024-07-29T21:52:19.502Z"
   },
   {
    "duration": 0,
    "start_time": "2024-07-29T21:52:19.505Z"
   },
   {
    "duration": 0,
    "start_time": "2024-07-29T21:52:19.508Z"
   },
   {
    "duration": 0,
    "start_time": "2024-07-29T21:52:19.511Z"
   },
   {
    "duration": 0,
    "start_time": "2024-07-29T21:52:19.514Z"
   },
   {
    "duration": 1,
    "start_time": "2024-07-29T21:52:19.517Z"
   },
   {
    "duration": 0,
    "start_time": "2024-07-29T21:52:19.520Z"
   },
   {
    "duration": 0,
    "start_time": "2024-07-29T21:52:19.524Z"
   },
   {
    "duration": 5,
    "start_time": "2024-07-29T21:52:51.255Z"
   },
   {
    "duration": 6,
    "start_time": "2024-07-29T21:52:51.730Z"
   },
   {
    "duration": 7,
    "start_time": "2024-07-29T21:52:52.370Z"
   },
   {
    "duration": 6,
    "start_time": "2024-07-29T21:52:52.955Z"
   },
   {
    "duration": 10,
    "start_time": "2024-07-29T21:52:54.086Z"
   },
   {
    "duration": 7,
    "start_time": "2024-07-29T21:52:54.583Z"
   },
   {
    "duration": 7,
    "start_time": "2024-07-29T21:52:55.071Z"
   },
   {
    "duration": 113,
    "start_time": "2024-07-29T21:52:55.422Z"
   },
   {
    "duration": 536,
    "start_time": "2024-07-29T21:52:55.754Z"
   },
   {
    "duration": 187,
    "start_time": "2024-07-29T21:52:56.294Z"
   },
   {
    "duration": 132,
    "start_time": "2024-07-29T21:52:56.646Z"
   },
   {
    "duration": 144,
    "start_time": "2024-07-29T21:52:56.984Z"
   },
   {
    "duration": 44,
    "start_time": "2024-07-29T21:52:57.508Z"
   },
   {
    "duration": 2648,
    "start_time": "2024-07-29T21:52:58.035Z"
   },
   {
    "duration": 46,
    "start_time": "2024-07-29T21:53:00.692Z"
   },
   {
    "duration": 77,
    "start_time": "2024-07-29T21:53:00.741Z"
   },
   {
    "duration": 97,
    "start_time": "2024-07-29T21:53:00.825Z"
   },
   {
    "duration": 295,
    "start_time": "2024-07-29T21:53:00.926Z"
   },
   {
    "duration": 141,
    "start_time": "2024-07-29T21:53:01.225Z"
   },
   {
    "duration": 6,
    "start_time": "2024-07-29T21:53:01.369Z"
   },
   {
    "duration": 66,
    "start_time": "2024-07-29T21:53:01.380Z"
   },
   {
    "duration": 423,
    "start_time": "2024-07-29T21:53:01.488Z"
   },
   {
    "duration": 7,
    "start_time": "2024-07-29T21:55:09.249Z"
   },
   {
    "duration": 152,
    "start_time": "2024-07-29T21:55:10.561Z"
   },
   {
    "duration": 50,
    "start_time": "2024-07-29T22:00:20.593Z"
   },
   {
    "duration": 5,
    "start_time": "2024-07-29T22:00:38.394Z"
   },
   {
    "duration": 9,
    "start_time": "2024-07-29T22:00:39.701Z"
   },
   {
    "duration": 10,
    "start_time": "2024-07-29T22:00:41.718Z"
   },
   {
    "duration": 7,
    "start_time": "2024-07-29T22:00:43.139Z"
   },
   {
    "duration": 10,
    "start_time": "2024-07-29T22:00:47.853Z"
   },
   {
    "duration": 5,
    "start_time": "2024-07-29T22:00:50.761Z"
   },
   {
    "duration": 11,
    "start_time": "2024-07-29T22:00:53.241Z"
   },
   {
    "duration": 43,
    "start_time": "2024-07-29T22:00:53.895Z"
   },
   {
    "duration": 47,
    "start_time": "2024-07-29T22:00:58.824Z"
   },
   {
    "duration": 419,
    "start_time": "2024-07-29T22:01:00.623Z"
   },
   {
    "duration": 43,
    "start_time": "2024-07-29T22:01:54.232Z"
   },
   {
    "duration": 21,
    "start_time": "2024-07-29T22:02:33.307Z"
   },
   {
    "duration": 5,
    "start_time": "2024-07-29T22:02:35.996Z"
   },
   {
    "duration": 8,
    "start_time": "2024-07-29T22:02:38.515Z"
   },
   {
    "duration": 40,
    "start_time": "2024-07-29T22:02:39.707Z"
   },
   {
    "duration": 52,
    "start_time": "2024-07-29T22:03:26.176Z"
   },
   {
    "duration": 37,
    "start_time": "2024-07-29T22:03:56.753Z"
   },
   {
    "duration": 6,
    "start_time": "2024-07-29T22:04:28.556Z"
   },
   {
    "duration": 9,
    "start_time": "2024-07-29T22:04:30.734Z"
   },
   {
    "duration": 6,
    "start_time": "2024-07-29T22:04:33.059Z"
   },
   {
    "duration": 38,
    "start_time": "2024-07-29T22:04:59.835Z"
   },
   {
    "duration": 8,
    "start_time": "2024-07-29T22:05:06.555Z"
   },
   {
    "duration": 37,
    "start_time": "2024-07-29T22:05:07.153Z"
   },
   {
    "duration": 6,
    "start_time": "2024-07-29T22:05:24.658Z"
   },
   {
    "duration": 9,
    "start_time": "2024-07-29T22:05:26.370Z"
   },
   {
    "duration": 6,
    "start_time": "2024-07-29T22:05:28.149Z"
   },
   {
    "duration": 8,
    "start_time": "2024-07-29T22:05:30.062Z"
   },
   {
    "duration": 41,
    "start_time": "2024-07-29T22:05:31.272Z"
   },
   {
    "duration": 6,
    "start_time": "2024-07-29T22:05:57.144Z"
   },
   {
    "duration": 45,
    "start_time": "2024-07-29T22:06:08.475Z"
   },
   {
    "duration": 6,
    "start_time": "2024-07-29T22:06:43.333Z"
   },
   {
    "duration": 5,
    "start_time": "2024-07-29T22:06:43.965Z"
   },
   {
    "duration": 6,
    "start_time": "2024-07-29T22:06:45.218Z"
   },
   {
    "duration": 5,
    "start_time": "2024-07-29T22:06:59.397Z"
   },
   {
    "duration": 5,
    "start_time": "2024-07-29T22:07:00.867Z"
   },
   {
    "duration": 12,
    "start_time": "2024-07-29T22:07:04.004Z"
   },
   {
    "duration": 11,
    "start_time": "2024-07-29T22:07:17.025Z"
   },
   {
    "duration": 8,
    "start_time": "2024-07-29T22:07:35.011Z"
   },
   {
    "duration": 9,
    "start_time": "2024-07-29T22:07:52.251Z"
   },
   {
    "duration": 6,
    "start_time": "2024-07-29T22:07:54.406Z"
   },
   {
    "duration": 8,
    "start_time": "2024-07-29T22:07:56.351Z"
   },
   {
    "duration": 9,
    "start_time": "2024-07-29T22:09:29.624Z"
   },
   {
    "duration": 7,
    "start_time": "2024-07-29T22:09:33.987Z"
   },
   {
    "duration": 8,
    "start_time": "2024-07-29T22:09:45.437Z"
   },
   {
    "duration": 8,
    "start_time": "2024-07-29T22:10:19.257Z"
   },
   {
    "duration": 7,
    "start_time": "2024-07-29T22:10:24.105Z"
   },
   {
    "duration": 6,
    "start_time": "2024-07-29T22:10:32.475Z"
   },
   {
    "duration": 7,
    "start_time": "2024-07-29T22:10:44.727Z"
   },
   {
    "duration": 7,
    "start_time": "2024-07-29T22:10:56.828Z"
   },
   {
    "duration": 5,
    "start_time": "2024-07-29T22:11:34.717Z"
   },
   {
    "duration": 6,
    "start_time": "2024-07-29T22:12:15.206Z"
   },
   {
    "duration": 10,
    "start_time": "2024-07-29T22:16:30.290Z"
   },
   {
    "duration": 5,
    "start_time": "2024-07-29T22:16:31.874Z"
   },
   {
    "duration": 8,
    "start_time": "2024-07-29T22:16:34.039Z"
   },
   {
    "duration": 441,
    "start_time": "2024-07-29T22:16:37.661Z"
   },
   {
    "duration": 155,
    "start_time": "2024-07-29T22:16:40.346Z"
   },
   {
    "duration": 134,
    "start_time": "2024-07-29T22:16:42.267Z"
   },
   {
    "duration": 130,
    "start_time": "2024-07-29T22:16:44.609Z"
   },
   {
    "duration": 46,
    "start_time": "2024-07-29T22:17:09.562Z"
   },
   {
    "duration": 2615,
    "start_time": "2024-07-29T22:17:12.894Z"
   },
   {
    "duration": 44,
    "start_time": "2024-07-29T22:17:31.238Z"
   },
   {
    "duration": 45,
    "start_time": "2024-07-29T22:17:33.004Z"
   },
   {
    "duration": 127,
    "start_time": "2024-07-29T22:17:45.798Z"
   },
   {
    "duration": 83,
    "start_time": "2024-07-29T22:17:48.435Z"
   },
   {
    "duration": 70,
    "start_time": "2024-07-29T22:17:52.705Z"
   },
   {
    "duration": 6,
    "start_time": "2024-07-29T22:17:53.352Z"
   },
   {
    "duration": 2991,
    "start_time": "2024-07-29T22:17:57.280Z"
   },
   {
    "duration": 2901,
    "start_time": "2024-07-29T22:19:19.769Z"
   },
   {
    "duration": 28,
    "start_time": "2024-07-29T22:24:05.225Z"
   },
   {
    "duration": 9,
    "start_time": "2024-07-29T22:25:28.085Z"
   },
   {
    "duration": 3,
    "start_time": "2024-07-29T22:26:14.357Z"
   },
   {
    "duration": 8,
    "start_time": "2024-07-29T22:26:50.461Z"
   },
   {
    "duration": 68,
    "start_time": "2024-07-29T22:26:55.689Z"
   },
   {
    "duration": 50,
    "start_time": "2024-07-29T22:27:26.704Z"
   },
   {
    "duration": 9,
    "start_time": "2024-07-29T22:28:02.238Z"
   },
   {
    "duration": 385,
    "start_time": "2024-07-29T22:28:04.935Z"
   },
   {
    "duration": 157,
    "start_time": "2024-07-29T22:28:06.598Z"
   },
   {
    "duration": 132,
    "start_time": "2024-07-29T22:28:07.870Z"
   },
   {
    "duration": 120,
    "start_time": "2024-07-29T22:28:10.535Z"
   },
   {
    "duration": 41,
    "start_time": "2024-07-29T22:28:13.567Z"
   },
   {
    "duration": 2638,
    "start_time": "2024-07-29T22:28:15.455Z"
   },
   {
    "duration": 37,
    "start_time": "2024-07-29T22:28:18.105Z"
   },
   {
    "duration": 43,
    "start_time": "2024-07-29T22:28:18.921Z"
   },
   {
    "duration": 114,
    "start_time": "2024-07-29T22:28:20.295Z"
   },
   {
    "duration": 178,
    "start_time": "2024-07-29T22:28:22.535Z"
   },
   {
    "duration": 1049,
    "start_time": "2024-07-29T22:28:25.974Z"
   },
   {
    "duration": 0,
    "start_time": "2024-07-29T22:28:27.027Z"
   },
   {
    "duration": 8,
    "start_time": "2024-07-29T22:29:47.550Z"
   },
   {
    "duration": 56,
    "start_time": "2024-07-29T22:29:49.113Z"
   },
   {
    "duration": 100,
    "start_time": "2024-07-29T22:31:05.830Z"
   },
   {
    "duration": 225,
    "start_time": "2024-07-29T22:33:31.921Z"
   },
   {
    "duration": 5,
    "start_time": "2024-07-29T22:33:33.072Z"
   },
   {
    "duration": 52,
    "start_time": "2024-07-29T22:33:38.643Z"
   },
   {
    "duration": 101,
    "start_time": "2024-07-29T22:33:48.446Z"
   },
   {
    "duration": 9,
    "start_time": "2024-07-29T22:34:58.938Z"
   },
   {
    "duration": 9,
    "start_time": "2024-07-29T22:35:32.924Z"
   },
   {
    "duration": 390,
    "start_time": "2024-07-29T22:36:04.981Z"
   },
   {
    "duration": 147,
    "start_time": "2024-07-29T22:36:06.979Z"
   },
   {
    "duration": 140,
    "start_time": "2024-07-29T22:36:12.029Z"
   },
   {
    "duration": 140,
    "start_time": "2024-07-29T22:36:13.455Z"
   },
   {
    "duration": 42,
    "start_time": "2024-07-29T22:36:15.751Z"
   },
   {
    "duration": 2666,
    "start_time": "2024-07-29T22:36:17.703Z"
   },
   {
    "duration": 57,
    "start_time": "2024-07-29T22:36:20.374Z"
   },
   {
    "duration": 53,
    "start_time": "2024-07-29T22:36:23.315Z"
   },
   {
    "duration": 53,
    "start_time": "2024-07-29T22:36:24.966Z"
   },
   {
    "duration": 150,
    "start_time": "2024-07-29T22:36:26.875Z"
   },
   {
    "duration": 93,
    "start_time": "2024-07-29T22:36:28.295Z"
   },
   {
    "duration": 4,
    "start_time": "2024-07-29T22:36:55.606Z"
   },
   {
    "duration": 46,
    "start_time": "2024-07-29T22:36:59.876Z"
   },
   {
    "duration": 377,
    "start_time": "2024-07-29T22:37:13.211Z"
   },
   {
    "duration": 104,
    "start_time": "2024-07-29T22:38:15.635Z"
   },
   {
    "duration": 5,
    "start_time": "2024-07-29T22:38:17.183Z"
   },
   {
    "duration": 102,
    "start_time": "2024-07-29T22:38:27.871Z"
   },
   {
    "duration": 12,
    "start_time": "2024-07-29T22:39:46.662Z"
   },
   {
    "duration": 103,
    "start_time": "2024-07-29T22:39:55.653Z"
   },
   {
    "duration": 51,
    "start_time": "2024-07-29T22:41:21.805Z"
   },
   {
    "duration": 41,
    "start_time": "2024-07-29T22:44:40.499Z"
   },
   {
    "duration": 6,
    "start_time": "2024-07-29T22:45:15.460Z"
   },
   {
    "duration": 5,
    "start_time": "2024-07-29T22:46:57.268Z"
   },
   {
    "duration": 4,
    "start_time": "2024-07-29T22:46:59.311Z"
   },
   {
    "duration": 6,
    "start_time": "2024-07-29T22:47:01.919Z"
   },
   {
    "duration": 10,
    "start_time": "2024-07-29T22:47:19.086Z"
   },
   {
    "duration": 6,
    "start_time": "2024-07-29T22:47:19.598Z"
   },
   {
    "duration": 5,
    "start_time": "2024-07-29T22:47:20.258Z"
   },
   {
    "duration": 4,
    "start_time": "2024-07-29T22:48:35.606Z"
   },
   {
    "duration": 5,
    "start_time": "2024-07-29T22:48:59.033Z"
   },
   {
    "duration": 32,
    "start_time": "2024-07-29T22:49:01.057Z"
   },
   {
    "duration": 5,
    "start_time": "2024-07-29T22:49:03.819Z"
   },
   {
    "duration": 31,
    "start_time": "2024-07-29T22:49:21.262Z"
   },
   {
    "duration": 6,
    "start_time": "2024-07-29T22:49:22.422Z"
   },
   {
    "duration": 5,
    "start_time": "2024-07-29T22:49:46.440Z"
   },
   {
    "duration": 50,
    "start_time": "2024-07-29T22:50:05.239Z"
   },
   {
    "duration": 30,
    "start_time": "2024-07-29T22:55:09.850Z"
   },
   {
    "duration": 1576,
    "start_time": "2024-07-29T22:55:25.192Z"
   },
   {
    "duration": 7,
    "start_time": "2024-07-29T22:55:26.773Z"
   },
   {
    "duration": 24,
    "start_time": "2024-07-29T22:55:26.783Z"
   },
   {
    "duration": 7,
    "start_time": "2024-07-29T22:55:26.814Z"
   },
   {
    "duration": 9,
    "start_time": "2024-07-29T22:55:26.824Z"
   },
   {
    "duration": 6,
    "start_time": "2024-07-29T22:55:26.836Z"
   },
   {
    "duration": 9,
    "start_time": "2024-07-29T22:55:26.845Z"
   },
   {
    "duration": 440,
    "start_time": "2024-07-29T22:55:26.901Z"
   },
   {
    "duration": 152,
    "start_time": "2024-07-29T22:55:27.344Z"
   },
   {
    "duration": 174,
    "start_time": "2024-07-29T22:55:27.508Z"
   },
   {
    "duration": 175,
    "start_time": "2024-07-29T22:55:27.685Z"
   },
   {
    "duration": 57,
    "start_time": "2024-07-29T22:55:27.863Z"
   },
   {
    "duration": 2733,
    "start_time": "2024-07-29T22:55:27.923Z"
   },
   {
    "duration": 57,
    "start_time": "2024-07-29T22:55:30.660Z"
   },
   {
    "duration": 53,
    "start_time": "2024-07-29T22:55:30.720Z"
   },
   {
    "duration": 133,
    "start_time": "2024-07-29T22:55:30.776Z"
   },
   {
    "duration": 114,
    "start_time": "2024-07-29T22:55:30.914Z"
   },
   {
    "duration": 1584,
    "start_time": "2024-07-29T22:55:31.031Z"
   },
   {
    "duration": 0,
    "start_time": "2024-07-29T22:55:32.619Z"
   },
   {
    "duration": 0,
    "start_time": "2024-07-29T22:55:32.622Z"
   },
   {
    "duration": 0,
    "start_time": "2024-07-29T22:55:32.623Z"
   },
   {
    "duration": 7,
    "start_time": "2024-07-29T22:55:41.857Z"
   },
   {
    "duration": 8,
    "start_time": "2024-07-29T22:55:41.868Z"
   },
   {
    "duration": 7,
    "start_time": "2024-07-29T22:55:41.886Z"
   },
   {
    "duration": 6,
    "start_time": "2024-07-29T22:55:41.898Z"
   },
   {
    "duration": 9,
    "start_time": "2024-07-29T22:55:41.907Z"
   },
   {
    "duration": 5,
    "start_time": "2024-07-29T22:55:41.920Z"
   },
   {
    "duration": 10,
    "start_time": "2024-07-29T22:55:41.930Z"
   },
   {
    "duration": 582,
    "start_time": "2024-07-29T22:55:41.943Z"
   },
   {
    "duration": 171,
    "start_time": "2024-07-29T22:55:42.528Z"
   },
   {
    "duration": 174,
    "start_time": "2024-07-29T22:55:42.709Z"
   },
   {
    "duration": 168,
    "start_time": "2024-07-29T22:55:42.888Z"
   },
   {
    "duration": 61,
    "start_time": "2024-07-29T22:55:43.059Z"
   },
   {
    "duration": 2744,
    "start_time": "2024-07-29T22:55:43.123Z"
   },
   {
    "duration": 57,
    "start_time": "2024-07-29T22:55:45.870Z"
   },
   {
    "duration": 57,
    "start_time": "2024-07-29T22:55:45.930Z"
   },
   {
    "duration": 122,
    "start_time": "2024-07-29T22:55:46.002Z"
   },
   {
    "duration": 186,
    "start_time": "2024-07-29T22:55:46.129Z"
   },
   {
    "duration": 186,
    "start_time": "2024-07-29T22:55:46.317Z"
   },
   {
    "duration": 0,
    "start_time": "2024-07-29T22:55:46.506Z"
   },
   {
    "duration": 0,
    "start_time": "2024-07-29T22:55:46.509Z"
   },
   {
    "duration": 0,
    "start_time": "2024-07-29T22:55:46.512Z"
   },
   {
    "duration": 5,
    "start_time": "2024-07-29T22:55:52.300Z"
   },
   {
    "duration": 5,
    "start_time": "2024-07-29T22:55:53.135Z"
   },
   {
    "duration": 7,
    "start_time": "2024-07-29T22:55:53.941Z"
   },
   {
    "duration": 5,
    "start_time": "2024-07-29T22:55:54.553Z"
   },
   {
    "duration": 11,
    "start_time": "2024-07-29T22:55:55.936Z"
   },
   {
    "duration": 10,
    "start_time": "2024-07-29T22:55:56.706Z"
   },
   {
    "duration": 8,
    "start_time": "2024-07-29T22:55:57.518Z"
   },
   {
    "duration": 393,
    "start_time": "2024-07-29T22:55:58.329Z"
   },
   {
    "duration": 139,
    "start_time": "2024-07-29T22:55:59.177Z"
   },
   {
    "duration": 150,
    "start_time": "2024-07-29T22:56:00.045Z"
   },
   {
    "duration": 157,
    "start_time": "2024-07-29T22:56:01.114Z"
   },
   {
    "duration": 37,
    "start_time": "2024-07-29T22:56:03.143Z"
   },
   {
    "duration": 3199,
    "start_time": "2024-07-29T22:56:04.503Z"
   },
   {
    "duration": 51,
    "start_time": "2024-07-29T22:56:08.573Z"
   },
   {
    "duration": 48,
    "start_time": "2024-07-29T22:56:13.455Z"
   },
   {
    "duration": 236,
    "start_time": "2024-07-29T22:56:14.988Z"
   },
   {
    "duration": 235,
    "start_time": "2024-07-29T22:56:18.331Z"
   },
   {
    "duration": 138,
    "start_time": "2024-07-29T22:56:21.222Z"
   },
   {
    "duration": 133,
    "start_time": "2024-07-29T22:56:44.397Z"
   },
   {
    "duration": 24,
    "start_time": "2024-07-29T22:56:45.008Z"
   },
   {
    "duration": 3,
    "start_time": "2024-07-29T22:58:48.753Z"
   },
   {
    "duration": 5,
    "start_time": "2024-07-29T22:58:55.525Z"
   },
   {
    "duration": 134,
    "start_time": "2024-07-29T22:58:56.123Z"
   },
   {
    "duration": 31,
    "start_time": "2024-07-29T22:58:57.113Z"
   },
   {
    "duration": 3,
    "start_time": "2024-07-29T22:59:31.693Z"
   },
   {
    "duration": 95,
    "start_time": "2024-07-29T22:59:32.423Z"
   },
   {
    "duration": 11,
    "start_time": "2024-07-29T23:02:34.830Z"
   },
   {
    "duration": 9,
    "start_time": "2024-07-29T23:02:48.140Z"
   },
   {
    "duration": 414,
    "start_time": "2024-07-29T23:02:50.032Z"
   },
   {
    "duration": 128,
    "start_time": "2024-07-29T23:02:51.573Z"
   },
   {
    "duration": 117,
    "start_time": "2024-07-29T23:02:52.692Z"
   },
   {
    "duration": 129,
    "start_time": "2024-07-29T23:02:53.672Z"
   },
   {
    "duration": 42,
    "start_time": "2024-07-29T23:02:55.500Z"
   },
   {
    "duration": 2876,
    "start_time": "2024-07-29T23:02:57.229Z"
   },
   {
    "duration": 39,
    "start_time": "2024-07-29T23:03:00.109Z"
   },
   {
    "duration": 45,
    "start_time": "2024-07-29T23:03:00.296Z"
   },
   {
    "duration": 107,
    "start_time": "2024-07-29T23:03:01.408Z"
   },
   {
    "duration": 86,
    "start_time": "2024-07-29T23:03:03.929Z"
   },
   {
    "duration": 4,
    "start_time": "2024-07-29T23:03:05.308Z"
   },
   {
    "duration": 109,
    "start_time": "2024-07-29T23:03:06.675Z"
   },
   {
    "duration": 124,
    "start_time": "2024-07-29T23:03:14.267Z"
   },
   {
    "duration": 24,
    "start_time": "2024-07-29T23:03:25.118Z"
   },
   {
    "duration": 7,
    "start_time": "2024-07-29T23:04:44.614Z"
   },
   {
    "duration": 5,
    "start_time": "2024-07-29T23:05:29.464Z"
   },
   {
    "duration": 5,
    "start_time": "2024-07-29T23:05:30.294Z"
   },
   {
    "duration": 9,
    "start_time": "2024-07-29T23:07:07.540Z"
   },
   {
    "duration": 11,
    "start_time": "2024-07-29T23:09:34.117Z"
   },
   {
    "duration": 6,
    "start_time": "2024-07-29T23:11:18.381Z"
   },
   {
    "duration": 6,
    "start_time": "2024-07-29T23:17:14.181Z"
   },
   {
    "duration": 6,
    "start_time": "2024-07-29T23:17:35.142Z"
   },
   {
    "duration": 402,
    "start_time": "2024-07-29T23:17:37.990Z"
   },
   {
    "duration": 139,
    "start_time": "2024-07-29T23:17:39.634Z"
   },
   {
    "duration": 125,
    "start_time": "2024-07-29T23:17:40.878Z"
   },
   {
    "duration": 125,
    "start_time": "2024-07-29T23:17:42.408Z"
   },
   {
    "duration": 39,
    "start_time": "2024-07-29T23:17:44.848Z"
   },
   {
    "duration": 2592,
    "start_time": "2024-07-29T23:17:47.135Z"
   },
   {
    "duration": 35,
    "start_time": "2024-07-29T23:17:49.746Z"
   },
   {
    "duration": 45,
    "start_time": "2024-07-29T23:17:51.902Z"
   },
   {
    "duration": 48,
    "start_time": "2024-07-29T23:17:53.369Z"
   },
   {
    "duration": 202,
    "start_time": "2024-07-29T23:17:55.702Z"
   },
   {
    "duration": 68,
    "start_time": "2024-07-29T23:17:57.466Z"
   },
   {
    "duration": 5,
    "start_time": "2024-07-29T23:18:00.793Z"
   },
   {
    "duration": 2644,
    "start_time": "2024-07-29T23:18:50.377Z"
   },
   {
    "duration": 422,
    "start_time": "2024-07-29T23:19:44.140Z"
   },
   {
    "duration": 1430,
    "start_time": "2024-07-29T23:23:03.770Z"
   },
   {
    "duration": 6,
    "start_time": "2024-07-29T23:23:05.203Z"
   },
   {
    "duration": 6,
    "start_time": "2024-07-29T23:23:05.213Z"
   },
   {
    "duration": 5,
    "start_time": "2024-07-29T23:23:05.225Z"
   },
   {
    "duration": 9,
    "start_time": "2024-07-29T23:23:05.234Z"
   },
   {
    "duration": 5,
    "start_time": "2024-07-29T23:23:05.246Z"
   },
   {
    "duration": 48,
    "start_time": "2024-07-29T23:23:05.254Z"
   },
   {
    "duration": 399,
    "start_time": "2024-07-29T23:23:05.306Z"
   },
   {
    "duration": 146,
    "start_time": "2024-07-29T23:23:05.709Z"
   },
   {
    "duration": 157,
    "start_time": "2024-07-29T23:23:05.860Z"
   },
   {
    "duration": 152,
    "start_time": "2024-07-29T23:23:06.019Z"
   },
   {
    "duration": 56,
    "start_time": "2024-07-29T23:23:06.174Z"
   },
   {
    "duration": 4,
    "start_time": "2024-07-29T23:23:12.772Z"
   },
   {
    "duration": 7,
    "start_time": "2024-07-29T23:23:12.779Z"
   },
   {
    "duration": 5,
    "start_time": "2024-07-29T23:23:12.801Z"
   },
   {
    "duration": 6,
    "start_time": "2024-07-29T23:23:12.810Z"
   },
   {
    "duration": 9,
    "start_time": "2024-07-29T23:23:12.819Z"
   },
   {
    "duration": 6,
    "start_time": "2024-07-29T23:23:12.832Z"
   },
   {
    "duration": 7,
    "start_time": "2024-07-29T23:23:12.841Z"
   },
   {
    "duration": 413,
    "start_time": "2024-07-29T23:23:12.851Z"
   },
   {
    "duration": 154,
    "start_time": "2024-07-29T23:23:13.267Z"
   },
   {
    "duration": 133,
    "start_time": "2024-07-29T23:23:13.424Z"
   },
   {
    "duration": 151,
    "start_time": "2024-07-29T23:23:13.560Z"
   },
   {
    "duration": 37,
    "start_time": "2024-07-29T23:23:13.714Z"
   },
   {
    "duration": 2753,
    "start_time": "2024-07-29T23:23:13.755Z"
   },
   {
    "duration": 45,
    "start_time": "2024-07-29T23:23:16.511Z"
   },
   {
    "duration": 73,
    "start_time": "2024-07-29T23:23:16.559Z"
   },
   {
    "duration": 169,
    "start_time": "2024-07-29T23:23:16.635Z"
   },
   {
    "duration": 197,
    "start_time": "2024-07-29T23:23:16.808Z"
   },
   {
    "duration": 142,
    "start_time": "2024-07-29T23:23:17.008Z"
   },
   {
    "duration": 5,
    "start_time": "2024-07-29T23:23:17.153Z"
   },
   {
    "duration": 2684,
    "start_time": "2024-07-29T23:23:17.162Z"
   },
   {
    "duration": 386,
    "start_time": "2024-07-29T23:23:19.849Z"
   },
   {
    "duration": 4,
    "start_time": "2024-07-29T23:23:20.243Z"
   },
   {
    "duration": 6,
    "start_time": "2024-07-29T23:23:20.253Z"
   },
   {
    "duration": 6,
    "start_time": "2024-07-29T23:23:20.262Z"
   },
   {
    "duration": 6,
    "start_time": "2024-07-29T23:23:20.302Z"
   },
   {
    "duration": 8,
    "start_time": "2024-07-29T23:23:20.312Z"
   },
   {
    "duration": 5,
    "start_time": "2024-07-29T23:23:20.324Z"
   },
   {
    "duration": 6,
    "start_time": "2024-07-29T23:23:20.505Z"
   },
   {
    "duration": 380,
    "start_time": "2024-07-29T23:23:21.262Z"
   },
   {
    "duration": 127,
    "start_time": "2024-07-29T23:23:22.133Z"
   },
   {
    "duration": 119,
    "start_time": "2024-07-29T23:23:22.589Z"
   },
   {
    "duration": 122,
    "start_time": "2024-07-29T23:23:22.995Z"
   },
   {
    "duration": 35,
    "start_time": "2024-07-29T23:23:23.573Z"
   },
   {
    "duration": 2678,
    "start_time": "2024-07-29T23:23:24.185Z"
   },
   {
    "duration": 57,
    "start_time": "2024-07-29T23:23:26.866Z"
   },
   {
    "duration": 44,
    "start_time": "2024-07-29T23:23:26.925Z"
   },
   {
    "duration": 138,
    "start_time": "2024-07-29T23:23:26.974Z"
   },
   {
    "duration": 197,
    "start_time": "2024-07-29T23:23:27.115Z"
   },
   {
    "duration": 140,
    "start_time": "2024-07-29T23:23:27.316Z"
   },
   {
    "duration": 5,
    "start_time": "2024-07-29T23:23:27.460Z"
   },
   {
    "duration": 2659,
    "start_time": "2024-07-29T23:23:28.054Z"
   },
   {
    "duration": 379,
    "start_time": "2024-07-29T23:23:30.716Z"
   },
   {
    "duration": 360,
    "start_time": "2024-07-29T23:24:52.823Z"
   },
   {
    "duration": 372,
    "start_time": "2024-07-29T23:25:37.071Z"
   },
   {
    "duration": 8,
    "start_time": "2024-07-29T23:34:38.879Z"
   },
   {
    "duration": 354,
    "start_time": "2024-07-29T23:34:40.778Z"
   },
   {
    "duration": 127,
    "start_time": "2024-07-29T23:34:42.978Z"
   },
   {
    "duration": 132,
    "start_time": "2024-07-29T23:34:44.246Z"
   },
   {
    "duration": 126,
    "start_time": "2024-07-29T23:34:45.446Z"
   },
   {
    "duration": 34,
    "start_time": "2024-07-29T23:34:47.068Z"
   },
   {
    "duration": 2645,
    "start_time": "2024-07-29T23:34:48.237Z"
   },
   {
    "duration": 46,
    "start_time": "2024-07-29T23:34:50.885Z"
   },
   {
    "duration": 47,
    "start_time": "2024-07-29T23:34:51.805Z"
   },
   {
    "duration": 51,
    "start_time": "2024-07-29T23:34:52.872Z"
   },
   {
    "duration": 120,
    "start_time": "2024-07-29T23:34:54.982Z"
   },
   {
    "duration": 73,
    "start_time": "2024-07-29T23:34:56.241Z"
   },
   {
    "duration": 5,
    "start_time": "2024-07-29T23:34:56.892Z"
   },
   {
    "duration": 2636,
    "start_time": "2024-07-29T23:35:00.798Z"
   },
   {
    "duration": 7,
    "start_time": "2024-07-29T23:36:42.717Z"
   },
   {
    "duration": 364,
    "start_time": "2024-07-29T23:37:02.618Z"
   },
   {
    "duration": 355,
    "start_time": "2024-07-29T23:39:17.075Z"
   },
   {
    "duration": 336,
    "start_time": "2024-08-01T04:02:49.681Z"
   },
   {
    "duration": 23,
    "start_time": "2024-08-01T04:03:37.499Z"
   },
   {
    "duration": 23,
    "start_time": "2024-08-01T04:04:01.886Z"
   },
   {
    "duration": 23,
    "start_time": "2024-08-01T04:04:21.639Z"
   },
   {
    "duration": 5004,
    "start_time": "2024-08-01T04:05:27.368Z"
   },
   {
    "duration": 1400,
    "start_time": "2024-08-01T04:05:40.602Z"
   },
   {
    "duration": 6,
    "start_time": "2024-08-01T04:05:42.006Z"
   },
   {
    "duration": 6,
    "start_time": "2024-08-01T04:05:42.022Z"
   },
   {
    "duration": 5,
    "start_time": "2024-08-01T04:05:42.032Z"
   },
   {
    "duration": 8,
    "start_time": "2024-08-01T04:05:42.041Z"
   },
   {
    "duration": 5,
    "start_time": "2024-08-01T04:05:42.052Z"
   },
   {
    "duration": 8,
    "start_time": "2024-08-01T04:05:42.059Z"
   },
   {
    "duration": 532,
    "start_time": "2024-08-01T04:05:42.071Z"
   },
   {
    "duration": 125,
    "start_time": "2024-08-01T04:05:42.606Z"
   },
   {
    "duration": 134,
    "start_time": "2024-08-01T04:05:42.738Z"
   },
   {
    "duration": 138,
    "start_time": "2024-08-01T04:05:42.875Z"
   },
   {
    "duration": 35,
    "start_time": "2024-08-01T04:05:43.024Z"
   },
   {
    "duration": 2629,
    "start_time": "2024-08-01T04:05:43.062Z"
   },
   {
    "duration": 47,
    "start_time": "2024-08-01T04:05:45.695Z"
   },
   {
    "duration": 45,
    "start_time": "2024-08-01T04:05:45.746Z"
   },
   {
    "duration": 141,
    "start_time": "2024-08-01T04:05:45.793Z"
   },
   {
    "duration": 196,
    "start_time": "2024-08-01T04:05:45.938Z"
   },
   {
    "duration": 212,
    "start_time": "2024-08-01T04:05:46.137Z"
   },
   {
    "duration": 4,
    "start_time": "2024-08-01T04:05:46.352Z"
   },
   {
    "duration": 564,
    "start_time": "2024-08-01T04:05:46.360Z"
   },
   {
    "duration": 0,
    "start_time": "2024-08-01T04:05:46.928Z"
   },
   {
    "duration": 0,
    "start_time": "2024-08-01T04:05:46.929Z"
   },
   {
    "duration": 4,
    "start_time": "2024-08-01T04:05:49.556Z"
   },
   {
    "duration": 7,
    "start_time": "2024-08-01T04:05:49.563Z"
   },
   {
    "duration": 6,
    "start_time": "2024-08-01T04:05:49.575Z"
   },
   {
    "duration": 5,
    "start_time": "2024-08-01T04:05:49.584Z"
   },
   {
    "duration": 9,
    "start_time": "2024-08-01T04:05:49.593Z"
   },
   {
    "duration": 6,
    "start_time": "2024-08-01T04:05:49.622Z"
   },
   {
    "duration": 7,
    "start_time": "2024-08-01T04:05:49.632Z"
   },
   {
    "duration": 419,
    "start_time": "2024-08-01T04:05:49.642Z"
   },
   {
    "duration": 129,
    "start_time": "2024-08-01T04:05:50.064Z"
   },
   {
    "duration": 136,
    "start_time": "2024-08-01T04:05:50.198Z"
   },
   {
    "duration": 131,
    "start_time": "2024-08-01T04:05:50.340Z"
   },
   {
    "duration": 48,
    "start_time": "2024-08-01T04:05:50.475Z"
   },
   {
    "duration": 2456,
    "start_time": "2024-08-01T04:05:50.527Z"
   },
   {
    "duration": 46,
    "start_time": "2024-08-01T04:05:52.986Z"
   },
   {
    "duration": 41,
    "start_time": "2024-08-01T04:05:53.035Z"
   },
   {
    "duration": 145,
    "start_time": "2024-08-01T04:05:53.079Z"
   },
   {
    "duration": 197,
    "start_time": "2024-08-01T04:05:53.228Z"
   },
   {
    "duration": 147,
    "start_time": "2024-08-01T04:05:53.433Z"
   },
   {
    "duration": 5,
    "start_time": "2024-08-01T04:05:53.583Z"
   },
   {
    "duration": 58,
    "start_time": "2024-08-01T04:05:53.591Z"
   },
   {
    "duration": 0,
    "start_time": "2024-08-01T04:05:53.652Z"
   },
   {
    "duration": 0,
    "start_time": "2024-08-01T04:05:53.654Z"
   },
   {
    "duration": 5,
    "start_time": "2024-08-01T04:06:25.858Z"
   },
   {
    "duration": 7,
    "start_time": "2024-08-01T04:06:26.324Z"
   },
   {
    "duration": 5,
    "start_time": "2024-08-01T04:06:26.749Z"
   },
   {
    "duration": 5,
    "start_time": "2024-08-01T04:06:27.182Z"
   },
   {
    "duration": 9,
    "start_time": "2024-08-01T04:06:28.420Z"
   },
   {
    "duration": 4,
    "start_time": "2024-08-01T04:06:28.911Z"
   },
   {
    "duration": 7,
    "start_time": "2024-08-01T04:06:29.447Z"
   },
   {
    "duration": 357,
    "start_time": "2024-08-01T04:06:30.415Z"
   },
   {
    "duration": 115,
    "start_time": "2024-08-01T04:06:31.004Z"
   },
   {
    "duration": 114,
    "start_time": "2024-08-01T04:06:31.416Z"
   },
   {
    "duration": 114,
    "start_time": "2024-08-01T04:06:31.875Z"
   },
   {
    "duration": 35,
    "start_time": "2024-08-01T04:06:32.606Z"
   },
   {
    "duration": 2605,
    "start_time": "2024-08-01T04:06:33.364Z"
   },
   {
    "duration": 35,
    "start_time": "2024-08-01T04:06:35.973Z"
   },
   {
    "duration": 42,
    "start_time": "2024-08-01T04:06:36.023Z"
   },
   {
    "duration": 153,
    "start_time": "2024-08-01T04:06:36.070Z"
   },
   {
    "duration": 197,
    "start_time": "2024-08-01T04:06:36.226Z"
   },
   {
    "duration": 72,
    "start_time": "2024-08-01T04:06:37.316Z"
   },
   {
    "duration": 5,
    "start_time": "2024-08-01T04:06:37.667Z"
   },
   {
    "duration": 41,
    "start_time": "2024-08-01T04:06:38.223Z"
   },
   {
    "duration": 105,
    "start_time": "2024-08-01T04:07:08.235Z"
   },
   {
    "duration": 100,
    "start_time": "2024-08-01T04:07:08.590Z"
   },
   {
    "duration": 1467,
    "start_time": "2024-08-01T04:07:09.055Z"
   },
   {
    "duration": 0,
    "start_time": "2024-08-01T04:07:10.526Z"
   },
   {
    "duration": 0,
    "start_time": "2024-08-01T04:07:10.528Z"
   },
   {
    "duration": 0,
    "start_time": "2024-08-01T04:07:10.529Z"
   },
   {
    "duration": 101,
    "start_time": "2024-08-01T04:07:10.831Z"
   },
   {
    "duration": 73,
    "start_time": "2024-08-01T04:07:11.360Z"
   },
   {
    "duration": 59,
    "start_time": "2024-08-01T04:07:11.698Z"
   },
   {
    "duration": 5,
    "start_time": "2024-08-01T04:07:11.864Z"
   },
   {
    "duration": 39,
    "start_time": "2024-08-01T04:07:12.406Z"
   },
   {
    "duration": 5,
    "start_time": "2024-08-01T04:07:14.412Z"
   },
   {
    "duration": 358,
    "start_time": "2024-08-01T04:07:14.858Z"
   },
   {
    "duration": 25,
    "start_time": "2024-08-01T04:07:39.164Z"
   },
   {
    "duration": 6,
    "start_time": "2024-08-01T04:08:07.126Z"
   },
   {
    "duration": 351,
    "start_time": "2024-08-01T04:08:07.707Z"
   },
   {
    "duration": 335,
    "start_time": "2024-08-01T04:08:14.140Z"
   },
   {
    "duration": 5,
    "start_time": "2024-08-01T04:09:09.265Z"
   },
   {
    "duration": 5,
    "start_time": "2024-08-01T04:09:10.157Z"
   },
   {
    "duration": 5,
    "start_time": "2024-08-01T04:09:10.639Z"
   },
   {
    "duration": 5,
    "start_time": "2024-08-01T04:09:11.111Z"
   },
   {
    "duration": 8,
    "start_time": "2024-08-01T04:09:12.371Z"
   },
   {
    "duration": 4,
    "start_time": "2024-08-01T04:09:12.846Z"
   },
   {
    "duration": 6,
    "start_time": "2024-08-01T04:09:13.344Z"
   },
   {
    "duration": 357,
    "start_time": "2024-08-01T04:09:14.189Z"
   },
   {
    "duration": 113,
    "start_time": "2024-08-01T04:09:14.686Z"
   },
   {
    "duration": 116,
    "start_time": "2024-08-01T04:09:15.038Z"
   },
   {
    "duration": 112,
    "start_time": "2024-08-01T04:09:15.382Z"
   },
   {
    "duration": 31,
    "start_time": "2024-08-01T04:09:15.894Z"
   },
   {
    "duration": 2582,
    "start_time": "2024-08-01T04:09:16.407Z"
   },
   {
    "duration": 47,
    "start_time": "2024-08-01T04:09:18.993Z"
   },
   {
    "duration": 38,
    "start_time": "2024-08-01T04:09:19.043Z"
   },
   {
    "duration": 143,
    "start_time": "2024-08-01T04:09:19.085Z"
   },
   {
    "duration": 199,
    "start_time": "2024-08-01T04:09:19.231Z"
   },
   {
    "duration": 137,
    "start_time": "2024-08-01T04:09:19.434Z"
   },
   {
    "duration": 5,
    "start_time": "2024-08-01T04:09:19.577Z"
   },
   {
    "duration": 2529,
    "start_time": "2024-08-01T04:09:20.846Z"
   },
   {
    "duration": 6,
    "start_time": "2024-08-01T04:09:26.833Z"
   },
   {
    "duration": 341,
    "start_time": "2024-08-01T04:09:27.694Z"
   },
   {
    "duration": 9,
    "start_time": "2024-08-01T04:15:02.272Z"
   },
   {
    "duration": 8,
    "start_time": "2024-08-01T04:15:43.475Z"
   },
   {
    "duration": 334,
    "start_time": "2024-08-01T04:21:01.820Z"
   },
   {
    "duration": 112,
    "start_time": "2024-08-01T04:22:09.224Z"
   },
   {
    "duration": 61,
    "start_time": "2024-08-01T04:22:09.994Z"
   },
   {
    "duration": 5,
    "start_time": "2024-08-01T04:22:10.454Z"
   },
   {
    "duration": 2672,
    "start_time": "2024-08-01T04:22:11.925Z"
   },
   {
    "duration": 5,
    "start_time": "2024-08-01T04:22:16.424Z"
   },
   {
    "duration": 330,
    "start_time": "2024-08-01T04:22:17.465Z"
   },
   {
    "duration": 5346,
    "start_time": "2024-08-03T22:28:22.218Z"
   },
   {
    "duration": 7,
    "start_time": "2024-08-03T22:28:27.567Z"
   },
   {
    "duration": 6,
    "start_time": "2024-08-03T22:28:27.578Z"
   },
   {
    "duration": 7,
    "start_time": "2024-08-03T22:28:27.590Z"
   },
   {
    "duration": 38,
    "start_time": "2024-08-03T22:28:27.601Z"
   },
   {
    "duration": 6,
    "start_time": "2024-08-03T22:28:27.643Z"
   },
   {
    "duration": 9,
    "start_time": "2024-08-03T22:28:27.652Z"
   },
   {
    "duration": 497,
    "start_time": "2024-08-03T22:28:27.664Z"
   },
   {
    "duration": 128,
    "start_time": "2024-08-03T22:28:28.165Z"
   },
   {
    "duration": 134,
    "start_time": "2024-08-03T22:28:28.299Z"
   },
   {
    "duration": 132,
    "start_time": "2024-08-03T22:28:28.436Z"
   },
   {
    "duration": 35,
    "start_time": "2024-08-03T22:28:28.571Z"
   },
   {
    "duration": 2576,
    "start_time": "2024-08-03T22:28:28.609Z"
   },
   {
    "duration": 53,
    "start_time": "2024-08-03T22:28:31.188Z"
   },
   {
    "duration": 43,
    "start_time": "2024-08-03T22:28:31.244Z"
   },
   {
    "duration": 142,
    "start_time": "2024-08-03T22:28:31.291Z"
   },
   {
    "duration": 200,
    "start_time": "2024-08-03T22:28:31.436Z"
   },
   {
    "duration": 149,
    "start_time": "2024-08-03T22:28:31.639Z"
   },
   {
    "duration": 6,
    "start_time": "2024-08-03T22:28:31.791Z"
   },
   {
    "duration": 2552,
    "start_time": "2024-08-03T22:28:31.801Z"
   },
   {
    "duration": 6,
    "start_time": "2024-08-03T22:28:34.356Z"
   },
   {
    "duration": 370,
    "start_time": "2024-08-03T22:28:34.365Z"
   },
   {
    "duration": 5,
    "start_time": "2024-08-03T22:28:52.334Z"
   },
   {
    "duration": 6,
    "start_time": "2024-08-03T22:28:52.344Z"
   },
   {
    "duration": 7,
    "start_time": "2024-08-03T22:28:52.353Z"
   },
   {
    "duration": 6,
    "start_time": "2024-08-03T22:28:52.363Z"
   },
   {
    "duration": 8,
    "start_time": "2024-08-03T22:28:52.375Z"
   },
   {
    "duration": 51,
    "start_time": "2024-08-03T22:28:52.386Z"
   },
   {
    "duration": 10,
    "start_time": "2024-08-03T22:28:52.441Z"
   },
   {
    "duration": 393,
    "start_time": "2024-08-03T22:28:52.455Z"
   },
   {
    "duration": 122,
    "start_time": "2024-08-03T22:28:52.851Z"
   },
   {
    "duration": 128,
    "start_time": "2024-08-03T22:28:52.976Z"
   },
   {
    "duration": 137,
    "start_time": "2024-08-03T22:28:53.107Z"
   },
   {
    "duration": 32,
    "start_time": "2024-08-03T22:28:53.247Z"
   },
   {
    "duration": 2600,
    "start_time": "2024-08-03T22:28:53.284Z"
   },
   {
    "duration": 47,
    "start_time": "2024-08-03T22:28:55.887Z"
   },
   {
    "duration": 38,
    "start_time": "2024-08-03T22:28:55.936Z"
   },
   {
    "duration": 158,
    "start_time": "2024-08-03T22:28:55.977Z"
   },
   {
    "duration": 196,
    "start_time": "2024-08-03T22:28:56.138Z"
   },
   {
    "duration": 142,
    "start_time": "2024-08-03T22:28:56.342Z"
   },
   {
    "duration": 5,
    "start_time": "2024-08-03T22:28:56.487Z"
   },
   {
    "duration": 2575,
    "start_time": "2024-08-03T22:28:56.495Z"
   },
   {
    "duration": 6,
    "start_time": "2024-08-03T22:28:59.073Z"
   },
   {
    "duration": 356,
    "start_time": "2024-08-03T22:28:59.082Z"
   },
   {
    "duration": 5,
    "start_time": "2024-08-03T22:29:07.461Z"
   },
   {
    "duration": 5,
    "start_time": "2024-08-03T22:29:08.663Z"
   },
   {
    "duration": 5,
    "start_time": "2024-08-03T22:29:09.551Z"
   },
   {
    "duration": 6,
    "start_time": "2024-08-03T22:29:10.408Z"
   },
   {
    "duration": 9,
    "start_time": "2024-08-03T22:29:12.781Z"
   },
   {
    "duration": 4,
    "start_time": "2024-08-03T22:29:13.726Z"
   },
   {
    "duration": 7,
    "start_time": "2024-08-03T22:29:14.831Z"
   },
   {
    "duration": 360,
    "start_time": "2024-08-03T22:29:16.696Z"
   },
   {
    "duration": 127,
    "start_time": "2024-08-03T22:29:17.741Z"
   },
   {
    "duration": 110,
    "start_time": "2024-08-03T22:29:18.382Z"
   },
   {
    "duration": 112,
    "start_time": "2024-08-03T22:29:19.002Z"
   },
   {
    "duration": 33,
    "start_time": "2024-08-03T22:29:19.995Z"
   },
   {
    "duration": 2632,
    "start_time": "2024-08-03T22:29:20.875Z"
   },
   {
    "duration": 42,
    "start_time": "2024-08-03T22:29:23.511Z"
   },
   {
    "duration": 44,
    "start_time": "2024-08-03T22:29:23.556Z"
   },
   {
    "duration": 138,
    "start_time": "2024-08-03T22:29:23.605Z"
   },
   {
    "duration": 202,
    "start_time": "2024-08-03T22:29:23.747Z"
   },
   {
    "duration": 217,
    "start_time": "2024-08-03T22:29:23.951Z"
   },
   {
    "duration": 4,
    "start_time": "2024-08-03T22:29:24.172Z"
   },
   {
    "duration": 2596,
    "start_time": "2024-08-03T22:29:24.180Z"
   },
   {
    "duration": 5,
    "start_time": "2024-08-03T22:29:26.780Z"
   },
   {
    "duration": 366,
    "start_time": "2024-08-03T22:29:26.789Z"
   },
   {
    "duration": 1390,
    "start_time": "2024-08-03T22:30:38.720Z"
   },
   {
    "duration": 5,
    "start_time": "2024-08-03T22:30:40.114Z"
   },
   {
    "duration": 8,
    "start_time": "2024-08-03T22:30:40.133Z"
   },
   {
    "duration": 8,
    "start_time": "2024-08-03T22:30:40.144Z"
   },
   {
    "duration": 8,
    "start_time": "2024-08-03T22:30:40.155Z"
   },
   {
    "duration": 5,
    "start_time": "2024-08-03T22:30:40.166Z"
   },
   {
    "duration": 6,
    "start_time": "2024-08-03T22:30:40.174Z"
   },
   {
    "duration": 400,
    "start_time": "2024-08-03T22:30:40.183Z"
   },
   {
    "duration": 129,
    "start_time": "2024-08-03T22:30:40.586Z"
   },
   {
    "duration": 128,
    "start_time": "2024-08-03T22:30:40.720Z"
   },
   {
    "duration": 129,
    "start_time": "2024-08-03T22:30:40.851Z"
   },
   {
    "duration": 58,
    "start_time": "2024-08-03T22:30:40.983Z"
   },
   {
    "duration": 2627,
    "start_time": "2024-08-03T22:30:41.044Z"
   },
   {
    "duration": 37,
    "start_time": "2024-08-03T22:30:43.674Z"
   },
   {
    "duration": 59,
    "start_time": "2024-08-03T22:30:43.713Z"
   },
   {
    "duration": 158,
    "start_time": "2024-08-03T22:30:43.775Z"
   },
   {
    "duration": 198,
    "start_time": "2024-08-03T22:30:43.936Z"
   },
   {
    "duration": 147,
    "start_time": "2024-08-03T22:30:44.142Z"
   },
   {
    "duration": 5,
    "start_time": "2024-08-03T22:30:44.291Z"
   },
   {
    "duration": 2524,
    "start_time": "2024-08-03T22:30:44.299Z"
   },
   {
    "duration": 6,
    "start_time": "2024-08-03T22:30:46.833Z"
   },
   {
    "duration": 369,
    "start_time": "2024-08-03T22:30:46.843Z"
   },
   {
    "duration": 4,
    "start_time": "2024-08-03T22:46:02.805Z"
   },
   {
    "duration": 490,
    "start_time": "2024-08-03T22:46:05.974Z"
   },
   {
    "duration": 4,
    "start_time": "2024-08-03T22:46:20.823Z"
   },
   {
    "duration": 5,
    "start_time": "2024-08-03T22:46:21.668Z"
   },
   {
    "duration": 5,
    "start_time": "2024-08-03T22:46:22.669Z"
   },
   {
    "duration": 5,
    "start_time": "2024-08-03T22:46:23.663Z"
   },
   {
    "duration": 7,
    "start_time": "2024-08-03T22:46:27.856Z"
   },
   {
    "duration": 4,
    "start_time": "2024-08-03T22:46:32.066Z"
   },
   {
    "duration": 33,
    "start_time": "2024-08-03T22:46:34.928Z"
   },
   {
    "duration": 1374,
    "start_time": "2024-08-03T22:47:15.335Z"
   },
   {
    "duration": 6,
    "start_time": "2024-08-03T22:47:16.712Z"
   },
   {
    "duration": 14,
    "start_time": "2024-08-03T22:47:16.721Z"
   },
   {
    "duration": 5,
    "start_time": "2024-08-03T22:47:16.740Z"
   },
   {
    "duration": 9,
    "start_time": "2024-08-03T22:47:16.748Z"
   },
   {
    "duration": 4,
    "start_time": "2024-08-03T22:47:16.761Z"
   },
   {
    "duration": 538,
    "start_time": "2024-08-03T22:47:16.768Z"
   },
   {
    "duration": 0,
    "start_time": "2024-08-03T22:47:17.310Z"
   },
   {
    "duration": 0,
    "start_time": "2024-08-03T22:47:17.311Z"
   },
   {
    "duration": 0,
    "start_time": "2024-08-03T22:47:17.314Z"
   },
   {
    "duration": 0,
    "start_time": "2024-08-03T22:47:17.316Z"
   },
   {
    "duration": 0,
    "start_time": "2024-08-03T22:47:17.318Z"
   },
   {
    "duration": 0,
    "start_time": "2024-08-03T22:47:17.334Z"
   },
   {
    "duration": 0,
    "start_time": "2024-08-03T22:47:17.336Z"
   },
   {
    "duration": 0,
    "start_time": "2024-08-03T22:47:17.338Z"
   },
   {
    "duration": 0,
    "start_time": "2024-08-03T22:47:17.342Z"
   },
   {
    "duration": 0,
    "start_time": "2024-08-03T22:47:17.344Z"
   },
   {
    "duration": 0,
    "start_time": "2024-08-03T22:47:17.346Z"
   },
   {
    "duration": 0,
    "start_time": "2024-08-03T22:47:17.348Z"
   },
   {
    "duration": 0,
    "start_time": "2024-08-03T22:47:17.351Z"
   },
   {
    "duration": 0,
    "start_time": "2024-08-03T22:47:17.352Z"
   },
   {
    "duration": 1398,
    "start_time": "2024-08-03T22:47:22.131Z"
   },
   {
    "duration": 6,
    "start_time": "2024-08-03T22:47:23.532Z"
   },
   {
    "duration": 6,
    "start_time": "2024-08-03T22:47:23.542Z"
   },
   {
    "duration": 5,
    "start_time": "2024-08-03T22:47:23.552Z"
   },
   {
    "duration": 8,
    "start_time": "2024-08-03T22:47:23.560Z"
   },
   {
    "duration": 4,
    "start_time": "2024-08-03T22:47:23.571Z"
   },
   {
    "duration": 522,
    "start_time": "2024-08-03T22:47:23.578Z"
   },
   {
    "duration": 0,
    "start_time": "2024-08-03T22:47:24.103Z"
   },
   {
    "duration": 0,
    "start_time": "2024-08-03T22:47:24.105Z"
   },
   {
    "duration": 0,
    "start_time": "2024-08-03T22:47:24.107Z"
   },
   {
    "duration": 0,
    "start_time": "2024-08-03T22:47:24.109Z"
   },
   {
    "duration": 0,
    "start_time": "2024-08-03T22:47:24.111Z"
   },
   {
    "duration": 0,
    "start_time": "2024-08-03T22:47:24.132Z"
   },
   {
    "duration": 0,
    "start_time": "2024-08-03T22:47:24.134Z"
   },
   {
    "duration": 0,
    "start_time": "2024-08-03T22:47:24.136Z"
   },
   {
    "duration": 0,
    "start_time": "2024-08-03T22:47:24.140Z"
   },
   {
    "duration": 0,
    "start_time": "2024-08-03T22:47:24.141Z"
   },
   {
    "duration": 0,
    "start_time": "2024-08-03T22:47:24.144Z"
   },
   {
    "duration": 0,
    "start_time": "2024-08-03T22:47:24.146Z"
   },
   {
    "duration": 0,
    "start_time": "2024-08-03T22:47:24.148Z"
   },
   {
    "duration": 0,
    "start_time": "2024-08-03T22:47:24.150Z"
   },
   {
    "duration": 5,
    "start_time": "2024-08-03T22:47:29.793Z"
   },
   {
    "duration": 5,
    "start_time": "2024-08-03T22:47:30.521Z"
   },
   {
    "duration": 5,
    "start_time": "2024-08-03T22:47:31.236Z"
   },
   {
    "duration": 5,
    "start_time": "2024-08-03T22:47:31.925Z"
   },
   {
    "duration": 8,
    "start_time": "2024-08-03T22:47:34.064Z"
   },
   {
    "duration": 4,
    "start_time": "2024-08-03T22:47:35.382Z"
   },
   {
    "duration": 33,
    "start_time": "2024-08-03T22:47:37.603Z"
   },
   {
    "duration": 371,
    "start_time": "2024-08-03T22:47:46.442Z"
   },
   {
    "duration": 122,
    "start_time": "2024-08-03T22:47:48.089Z"
   },
   {
    "duration": 114,
    "start_time": "2024-08-03T22:47:49.762Z"
   },
   {
    "duration": 4,
    "start_time": "2024-08-03T22:59:51.456Z"
   },
   {
    "duration": 34,
    "start_time": "2024-08-03T22:59:54.273Z"
   },
   {
    "duration": 5,
    "start_time": "2024-08-03T23:00:18.958Z"
   },
   {
    "duration": 4,
    "start_time": "2024-08-03T23:00:19.467Z"
   },
   {
    "duration": 32,
    "start_time": "2024-08-03T23:00:21.864Z"
   },
   {
    "duration": 36,
    "start_time": "2024-08-03T23:03:19.319Z"
   },
   {
    "duration": 9,
    "start_time": "2024-08-03T23:03:31.744Z"
   },
   {
    "duration": 5,
    "start_time": "2024-08-03T23:03:33.287Z"
   },
   {
    "duration": 33,
    "start_time": "2024-08-03T23:03:35.737Z"
   },
   {
    "duration": 5,
    "start_time": "2024-08-03T23:04:07.469Z"
   },
   {
    "duration": 5,
    "start_time": "2024-08-03T23:04:08.074Z"
   },
   {
    "duration": 5,
    "start_time": "2024-08-03T23:04:09.135Z"
   },
   {
    "duration": 5,
    "start_time": "2024-08-03T23:04:09.896Z"
   },
   {
    "duration": 8,
    "start_time": "2024-08-03T23:04:12.789Z"
   },
   {
    "duration": 5,
    "start_time": "2024-08-03T23:04:15.246Z"
   },
   {
    "duration": 34,
    "start_time": "2024-08-03T23:04:17.772Z"
   },
   {
    "duration": 368,
    "start_time": "2024-08-03T23:04:24.023Z"
   },
   {
    "duration": 116,
    "start_time": "2024-08-03T23:04:26.066Z"
   },
   {
    "duration": 34,
    "start_time": "2024-08-03T23:05:15.101Z"
   },
   {
    "duration": 4,
    "start_time": "2024-08-03T23:06:53.896Z"
   },
   {
    "duration": 5,
    "start_time": "2024-08-03T23:07:42.867Z"
   },
   {
    "duration": 6,
    "start_time": "2024-08-03T23:07:43.523Z"
   },
   {
    "duration": 5,
    "start_time": "2024-08-03T23:07:44.156Z"
   },
   {
    "duration": 5,
    "start_time": "2024-08-03T23:07:44.828Z"
   },
   {
    "duration": 8,
    "start_time": "2024-08-03T23:07:46.778Z"
   },
   {
    "duration": 5,
    "start_time": "2024-08-03T23:07:48.441Z"
   },
   {
    "duration": 948,
    "start_time": "2024-08-03T23:07:50.518Z"
   },
   {
    "duration": 8,
    "start_time": "2024-08-03T23:09:26.423Z"
   },
   {
    "duration": 925,
    "start_time": "2024-08-03T23:09:45.884Z"
   },
   {
    "duration": 357,
    "start_time": "2024-08-03T23:09:47.995Z"
   },
   {
    "duration": 114,
    "start_time": "2024-08-03T23:09:49.199Z"
   },
   {
    "duration": 108,
    "start_time": "2024-08-03T23:09:50.215Z"
   },
   {
    "duration": 113,
    "start_time": "2024-08-03T23:09:50.996Z"
   },
   {
    "duration": 38,
    "start_time": "2024-08-03T23:09:52.305Z"
   },
   {
    "duration": 2566,
    "start_time": "2024-08-03T23:09:53.633Z"
   },
   {
    "duration": 54,
    "start_time": "2024-08-03T23:09:56.203Z"
   },
   {
    "duration": 42,
    "start_time": "2024-08-03T23:09:56.313Z"
   },
   {
    "duration": 67,
    "start_time": "2024-08-03T23:09:57.275Z"
   },
   {
    "duration": 100,
    "start_time": "2024-08-03T23:09:58.540Z"
   },
   {
    "duration": 70,
    "start_time": "2024-08-03T23:09:59.366Z"
   },
   {
    "duration": 4,
    "start_time": "2024-08-03T23:09:59.804Z"
   },
   {
    "duration": 2562,
    "start_time": "2024-08-03T23:10:01.060Z"
   },
   {
    "duration": 8,
    "start_time": "2024-08-03T23:12:18.111Z"
   },
   {
    "duration": 5,
    "start_time": "2024-08-03T23:12:19.162Z"
   },
   {
    "duration": 943,
    "start_time": "2024-08-03T23:12:21.222Z"
   },
   {
    "duration": 356,
    "start_time": "2024-08-03T23:12:24.374Z"
   },
   {
    "duration": 115,
    "start_time": "2024-08-03T23:12:25.637Z"
   },
   {
    "duration": 113,
    "start_time": "2024-08-03T23:12:26.635Z"
   },
   {
    "duration": 123,
    "start_time": "2024-08-03T23:12:27.661Z"
   },
   {
    "duration": 31,
    "start_time": "2024-08-03T23:12:29.648Z"
   },
   {
    "duration": 2500,
    "start_time": "2024-08-03T23:12:31.510Z"
   },
   {
    "duration": 33,
    "start_time": "2024-08-03T23:12:34.802Z"
   },
   {
    "duration": 41,
    "start_time": "2024-08-03T23:12:37.472Z"
   },
   {
    "duration": 51,
    "start_time": "2024-08-03T23:12:38.994Z"
   },
   {
    "duration": 116,
    "start_time": "2024-08-03T23:12:40.929Z"
   },
   {
    "duration": 68,
    "start_time": "2024-08-03T23:12:42.284Z"
   },
   {
    "duration": 5,
    "start_time": "2024-08-03T23:12:42.929Z"
   },
   {
    "duration": 2649,
    "start_time": "2024-08-03T23:12:44.563Z"
   },
   {
    "duration": 361,
    "start_time": "2024-08-03T23:12:51.918Z"
   },
   {
    "duration": 931,
    "start_time": "2024-08-03T23:14:20.658Z"
   },
   {
    "duration": 945,
    "start_time": "2024-08-03T23:17:08.066Z"
   },
   {
    "duration": 395,
    "start_time": "2024-08-03T23:17:10.562Z"
   },
   {
    "duration": 5,
    "start_time": "2024-08-03T23:22:59.072Z"
   },
   {
    "duration": 345,
    "start_time": "2024-08-03T23:23:47.082Z"
   }
  ],
  "kernelspec": {
   "display_name": "Python 3 (ipykernel)",
   "language": "python",
   "name": "python3"
  },
  "language_info": {
   "codemirror_mode": {
    "name": "ipython",
    "version": 3
   },
   "file_extension": ".py",
   "mimetype": "text/x-python",
   "name": "python",
   "nbconvert_exporter": "python",
   "pygments_lexer": "ipython3",
   "version": "3.9.19"
  },
  "toc": {
   "base_numbering": 1,
   "nav_menu": {},
   "number_sections": true,
   "sideBar": true,
   "skip_h1_title": true,
   "title_cell": "Table of Contents",
   "title_sidebar": "Contents",
   "toc_cell": false,
   "toc_position": {
    "height": "calc(100% - 180px)",
    "left": "10px",
    "top": "150px",
    "width": "165px"
   },
   "toc_section_display": true,
   "toc_window_display": true
  }
 },
 "nbformat": 4,
 "nbformat_minor": 2
}
